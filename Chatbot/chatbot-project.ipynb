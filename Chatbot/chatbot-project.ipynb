{
 "cells": [
  {
   "cell_type": "code",
   "execution_count": null,
   "metadata": {},
   "outputs": [],
   "source": [
    "import nltk\n",
    "from nltk.stem.porter import PorterStemmer\n",
    "import pandas as pd\n",
    "from stop_words import stop_words\n",
    "import re\n",
    "from sklearn.preprocessing import LabelEncoder\n",
    "from sklearn.model_selection import train_test_split"
   ]
  },
  {
   "cell_type": "code",
   "execution_count": null,
   "metadata": {},
   "outputs": [],
   "source": [
    "# nltk.download(\"punkt\") "
   ]
  },
  {
   "cell_type": "markdown",
   "metadata": {},
   "source": [
    "## PREPROCESSING\n",
    "\n",
    "#### 1. TOKENISASI\n",
    "#### 2. STEMMING\n",
    "#### 3. STOP WORDS REMOVAL"
   ]
  },
  {
   "cell_type": "code",
   "execution_count": 12,
   "metadata": {},
   "outputs": [],
   "source": [
    "stemmer = PorterStemmer()\n",
    "label_encoder = LabelEncoder()"
   ]
  },
  {
   "cell_type": "code",
   "execution_count": 82,
   "metadata": {},
   "outputs": [],
   "source": [
    "def steaming(word):\n",
    "    stemmer = PorterStemmer()\n",
    "    stemmed_word = stemmer.stem(word)\n",
    "    return stemmed_word"
   ]
  },
  {
   "cell_type": "code",
   "execution_count": 83,
   "metadata": {},
   "outputs": [],
   "source": [
    "def preprocessing(text):\n",
    "    # Menghilangkan tanda baca\n",
    "    text = re.sub(r'[^\\w\\s-]', ' ', text)\n",
    "\n",
    "    # Memisahkan teks menjadi kata-kata\n",
    "    words = text.split()\n",
    "    print(words)\n",
    "    \n",
    "    # Menghilangkan stopwords\n",
    "    filtered_words = [word for word in words if word.lower() not in stop_words]\n",
    "\n",
    "    # Menghilangkan singkatan sederhana\n",
    "    filtered_words = [re.sub(r'\\.', '', word) for word in filtered_words]\n",
    "\n",
    "    # Menghilangkan angka\n",
    "    filtered_words = [re.sub(r'\\d', '', word) for word in filtered_words]\n",
    "    \n",
    "    filtered_words = set(filtered_words)\n",
    "    \n",
    "    # STEAMING\n",
    "    filtered_words = [steaming(i) for i in filtered_words]\n",
    "\n",
    "    return ' '.join(sorted(filtered_words))\n"
   ]
  },
  {
   "cell_type": "code",
   "execution_count": 75,
   "metadata": {},
   "outputs": [],
   "source": [
    "json_data = pd.read_json(\"./dataset/intents.json\")\n",
    "df = pd.json_normalize(json_data['intents'])\n",
    "df = df.drop('context_set', axis=1)"
   ]
  },
  {
   "cell_type": "code",
   "execution_count": 76,
   "metadata": {},
   "outputs": [
    {
     "data": {
      "text/plain": [
       "0           greeting\n",
       "1            goodbye\n",
       "2            creator\n",
       "3               name\n",
       "4              hours\n",
       "5             number\n",
       "6             course\n",
       "7               fees\n",
       "8           location\n",
       "9             hostel\n",
       "10             event\n",
       "11          document\n",
       "12            floors\n",
       "13          syllabus\n",
       "14           library\n",
       "15    infrastructure\n",
       "16           canteen\n",
       "17              menu\n",
       "18         placement\n",
       "19             ithod\n",
       "20       computerhod\n",
       "21           extchod\n",
       "22         principal\n",
       "23               sem\n",
       "24         admission\n",
       "25       scholarship\n",
       "26        facilities\n",
       "27    college intake\n",
       "28           uniform\n",
       "29         committee\n",
       "30            random\n",
       "31             swear\n",
       "32          vacation\n",
       "33            sports\n",
       "34         salutaion\n",
       "35              task\n",
       "36           ragging\n",
       "37               hod\n",
       "Name: tag, dtype: object"
      ]
     },
     "execution_count": 76,
     "metadata": {},
     "output_type": "execute_result"
    }
   ],
   "source": [
    "df['tag']"
   ]
  },
  {
   "cell_type": "code",
   "execution_count": 77,
   "metadata": {},
   "outputs": [],
   "source": [
    "df['patterns'] = df['patterns'].apply(lambda x : ' '.join(x))"
   ]
  },
  {
   "cell_type": "code",
   "execution_count": 79,
   "metadata": {},
   "outputs": [
    {
     "data": {
      "text/html": [
       "<div>\n",
       "<style scoped>\n",
       "    .dataframe tbody tr th:only-of-type {\n",
       "        vertical-align: middle;\n",
       "    }\n",
       "\n",
       "    .dataframe tbody tr th {\n",
       "        vertical-align: top;\n",
       "    }\n",
       "\n",
       "    .dataframe thead th {\n",
       "        text-align: right;\n",
       "    }\n",
       "</style>\n",
       "<table border=\"1\" class=\"dataframe\">\n",
       "  <thead>\n",
       "    <tr style=\"text-align: right;\">\n",
       "      <th></th>\n",
       "      <th>tag</th>\n",
       "      <th>patterns</th>\n",
       "      <th>responses</th>\n",
       "    </tr>\n",
       "  </thead>\n",
       "  <tbody>\n",
       "    <tr>\n",
       "      <th>0</th>\n",
       "      <td>greeting</td>\n",
       "      <td>Hi How are you? Is anyone there? Hello Good da...</td>\n",
       "      <td>[Hello!, Good to see you again!, Hi there, how...</td>\n",
       "    </tr>\n",
       "    <tr>\n",
       "      <th>1</th>\n",
       "      <td>goodbye</td>\n",
       "      <td>cya see you bye bye See you later Goodbye I am...</td>\n",
       "      <td>[Sad to see you go :(, Talk to you later, Good...</td>\n",
       "    </tr>\n",
       "    <tr>\n",
       "      <th>2</th>\n",
       "      <td>creator</td>\n",
       "      <td>what is the name of your developers what is th...</td>\n",
       "      <td>[College students]</td>\n",
       "    </tr>\n",
       "    <tr>\n",
       "      <th>3</th>\n",
       "      <td>name</td>\n",
       "      <td>name your name do you have a name what are you...</td>\n",
       "      <td>[You can call me Mind Reader., I'm Mind Reader...</td>\n",
       "    </tr>\n",
       "    <tr>\n",
       "      <th>4</th>\n",
       "      <td>hours</td>\n",
       "      <td>timing of college what is college timing worki...</td>\n",
       "      <td>[College is open 8am-5pm Monday-Saturday!]</td>\n",
       "    </tr>\n",
       "    <tr>\n",
       "      <th>5</th>\n",
       "      <td>number</td>\n",
       "      <td>more info contact info how to contact college ...</td>\n",
       "      <td>[You can contact at: NUMBER]</td>\n",
       "    </tr>\n",
       "    <tr>\n",
       "      <th>6</th>\n",
       "      <td>course</td>\n",
       "      <td>list of courses list of courses offered list o...</td>\n",
       "      <td>[Our university offers Information Technology,...</td>\n",
       "    </tr>\n",
       "    <tr>\n",
       "      <th>7</th>\n",
       "      <td>fees</td>\n",
       "      <td>information about fee information on fee tell ...</td>\n",
       "      <td>[For Fee detail visit &lt;a target=\"_blank\" href=...</td>\n",
       "    </tr>\n",
       "    <tr>\n",
       "      <th>8</th>\n",
       "      <td>location</td>\n",
       "      <td>where is the college located college is locate...</td>\n",
       "      <td>[&lt;a target=\"_blank\" href=\"ADD YOU GOOGLE MAP L...</td>\n",
       "    </tr>\n",
       "    <tr>\n",
       "      <th>9</th>\n",
       "      <td>hostel</td>\n",
       "      <td>hostel facility hostel servive hostel location...</td>\n",
       "      <td>[For hostel detail visit &lt;a target=\"_blank\" hr...</td>\n",
       "    </tr>\n",
       "    <tr>\n",
       "      <th>10</th>\n",
       "      <td>event</td>\n",
       "      <td>events organised list of events list of events...</td>\n",
       "      <td>[For event detail visit &lt;a target=\"_blank\" hre...</td>\n",
       "    </tr>\n",
       "    <tr>\n",
       "      <th>11</th>\n",
       "      <td>document</td>\n",
       "      <td>document to bring documents needed for admisio...</td>\n",
       "      <td>[To know more about document required visit &lt;a...</td>\n",
       "    </tr>\n",
       "    <tr>\n",
       "      <th>12</th>\n",
       "      <td>floors</td>\n",
       "      <td>size of campus building size How many floors d...</td>\n",
       "      <td>[My College has total 2 floors ]</td>\n",
       "    </tr>\n",
       "    <tr>\n",
       "      <th>13</th>\n",
       "      <td>syllabus</td>\n",
       "      <td>Syllabus for IT what is the Information Techno...</td>\n",
       "      <td>[Timetable provide direct to the students OR T...</td>\n",
       "    </tr>\n",
       "    <tr>\n",
       "      <th>14</th>\n",
       "      <td>library</td>\n",
       "      <td>is there any library library facility library ...</td>\n",
       "      <td>[There is one huge and spacious library.timing...</td>\n",
       "    </tr>\n",
       "    <tr>\n",
       "      <th>15</th>\n",
       "      <td>infrastructure</td>\n",
       "      <td>how is college infrastructure infrastructure c...</td>\n",
       "      <td>[Our University has Excellent Infrastructure. ...</td>\n",
       "    </tr>\n",
       "    <tr>\n",
       "      <th>16</th>\n",
       "      <td>canteen</td>\n",
       "      <td>food facilities canteen facilities canteen fac...</td>\n",
       "      <td>[Our university has canteen with variety of fo...</td>\n",
       "    </tr>\n",
       "    <tr>\n",
       "      <th>17</th>\n",
       "      <td>menu</td>\n",
       "      <td>food menu food in canteen Whats there on menu ...</td>\n",
       "      <td>[we serve Franky, Locho, Alu-puri, Kachori, Kh...</td>\n",
       "    </tr>\n",
       "    <tr>\n",
       "      <th>18</th>\n",
       "      <td>placement</td>\n",
       "      <td>What is college placement Which companies visi...</td>\n",
       "      <td>[To know about placement visit &lt;a target=\"_bla...</td>\n",
       "    </tr>\n",
       "    <tr>\n",
       "      <th>19</th>\n",
       "      <td>ithod</td>\n",
       "      <td>Who is HOD Where is HOD it hod name of it hod</td>\n",
       "      <td>[All engineering departments have only one hod...</td>\n",
       "    </tr>\n",
       "    <tr>\n",
       "      <th>20</th>\n",
       "      <td>computerhod</td>\n",
       "      <td>Who is computer HOD Where is computer HOD comp...</td>\n",
       "      <td>[All engineering departments have only one hod...</td>\n",
       "    </tr>\n",
       "    <tr>\n",
       "      <th>21</th>\n",
       "      <td>extchod</td>\n",
       "      <td>Who is extc HOD Where is  extc HOD extc hod na...</td>\n",
       "      <td>[Different school wise hod are different.So be...</td>\n",
       "    </tr>\n",
       "    <tr>\n",
       "      <th>22</th>\n",
       "      <td>principal</td>\n",
       "      <td>what is the name of principal whatv is the pri...</td>\n",
       "      <td>[XYZ is college principal and if you need any ...</td>\n",
       "    </tr>\n",
       "    <tr>\n",
       "      <th>23</th>\n",
       "      <td>sem</td>\n",
       "      <td>exam dates exam schedule When is semester exam...</td>\n",
       "      <td>[Here is the Academic Calendar  &lt;a target=\"_bl...</td>\n",
       "    </tr>\n",
       "    <tr>\n",
       "      <th>24</th>\n",
       "      <td>admission</td>\n",
       "      <td>what is the process of admission what is the a...</td>\n",
       "      <td>[Application can also be submitted online thro...</td>\n",
       "    </tr>\n",
       "    <tr>\n",
       "      <th>25</th>\n",
       "      <td>scholarship</td>\n",
       "      <td>scholarship Is scholarship available scholarsh...</td>\n",
       "      <td>[Many government scholarships are supported by...</td>\n",
       "    </tr>\n",
       "    <tr>\n",
       "      <th>26</th>\n",
       "      <td>facilities</td>\n",
       "      <td>What facilities college provide College facili...</td>\n",
       "      <td>[Our university's Engineering department provi...</td>\n",
       "    </tr>\n",
       "    <tr>\n",
       "      <th>27</th>\n",
       "      <td>college intake</td>\n",
       "      <td>max number of students number of seats per bra...</td>\n",
       "      <td>[For IT, Computer and extc 60 per branch and s...</td>\n",
       "    </tr>\n",
       "    <tr>\n",
       "      <th>28</th>\n",
       "      <td>uniform</td>\n",
       "      <td>college dress code college dresscode what is t...</td>\n",
       "      <td>[ENTER YOUR OWN UNIVERSITY UNIFORM CIRCULER]</td>\n",
       "    </tr>\n",
       "    <tr>\n",
       "      <th>29</th>\n",
       "      <td>committee</td>\n",
       "      <td>what are the different committe in college dif...</td>\n",
       "      <td>[For the various committe in college contact t...</td>\n",
       "    </tr>\n",
       "    <tr>\n",
       "      <th>30</th>\n",
       "      <td>random</td>\n",
       "      <td>I love you Will you marry me Do you love me</td>\n",
       "      <td>[I am not program for this, please ask appropr...</td>\n",
       "    </tr>\n",
       "    <tr>\n",
       "      <th>31</th>\n",
       "      <td>swear</td>\n",
       "      <td>fuck bitch shut up hell stupid idiot dumb ass ...</td>\n",
       "      <td>[please use appropriate language, Maintaining ...</td>\n",
       "    </tr>\n",
       "    <tr>\n",
       "      <th>32</th>\n",
       "      <td>vacation</td>\n",
       "      <td>holidays when will semester starts when will s...</td>\n",
       "      <td>[Academic calender is given to you by your cla...</td>\n",
       "    </tr>\n",
       "    <tr>\n",
       "      <th>33</th>\n",
       "      <td>sports</td>\n",
       "      <td>sports and games give sports details sports in...</td>\n",
       "      <td>[Our university encourages all-round developme...</td>\n",
       "    </tr>\n",
       "    <tr>\n",
       "      <th>34</th>\n",
       "      <td>salutaion</td>\n",
       "      <td>okk okie nice work well done good job thanks f...</td>\n",
       "      <td>[I am glad I helped you, welcome, anything els...</td>\n",
       "    </tr>\n",
       "    <tr>\n",
       "      <th>35</th>\n",
       "      <td>task</td>\n",
       "      <td>what can you do what are the thing you can do ...</td>\n",
       "      <td>[I can answer to low-intermediate questions re...</td>\n",
       "    </tr>\n",
       "    <tr>\n",
       "      <th>36</th>\n",
       "      <td>ragging</td>\n",
       "      <td>ragging is ragging practice active in college ...</td>\n",
       "      <td>[We are Proud to tell you that our college pro...</td>\n",
       "    </tr>\n",
       "    <tr>\n",
       "      <th>37</th>\n",
       "      <td>hod</td>\n",
       "      <td>hod hod name who is the hod</td>\n",
       "      <td>[HODs differ for each branch, please be more s...</td>\n",
       "    </tr>\n",
       "  </tbody>\n",
       "</table>\n",
       "</div>"
      ],
      "text/plain": [
       "               tag                                           patterns  \\\n",
       "0         greeting  Hi How are you? Is anyone there? Hello Good da...   \n",
       "1          goodbye  cya see you bye bye See you later Goodbye I am...   \n",
       "2          creator  what is the name of your developers what is th...   \n",
       "3             name  name your name do you have a name what are you...   \n",
       "4            hours  timing of college what is college timing worki...   \n",
       "5           number  more info contact info how to contact college ...   \n",
       "6           course  list of courses list of courses offered list o...   \n",
       "7             fees  information about fee information on fee tell ...   \n",
       "8         location  where is the college located college is locate...   \n",
       "9           hostel  hostel facility hostel servive hostel location...   \n",
       "10           event  events organised list of events list of events...   \n",
       "11        document  document to bring documents needed for admisio...   \n",
       "12          floors  size of campus building size How many floors d...   \n",
       "13        syllabus  Syllabus for IT what is the Information Techno...   \n",
       "14         library  is there any library library facility library ...   \n",
       "15  infrastructure  how is college infrastructure infrastructure c...   \n",
       "16         canteen  food facilities canteen facilities canteen fac...   \n",
       "17            menu  food menu food in canteen Whats there on menu ...   \n",
       "18       placement  What is college placement Which companies visi...   \n",
       "19           ithod      Who is HOD Where is HOD it hod name of it hod   \n",
       "20     computerhod  Who is computer HOD Where is computer HOD comp...   \n",
       "21         extchod  Who is extc HOD Where is  extc HOD extc hod na...   \n",
       "22       principal  what is the name of principal whatv is the pri...   \n",
       "23             sem  exam dates exam schedule When is semester exam...   \n",
       "24       admission  what is the process of admission what is the a...   \n",
       "25     scholarship  scholarship Is scholarship available scholarsh...   \n",
       "26      facilities  What facilities college provide College facili...   \n",
       "27  college intake  max number of students number of seats per bra...   \n",
       "28         uniform  college dress code college dresscode what is t...   \n",
       "29       committee  what are the different committe in college dif...   \n",
       "30          random        I love you Will you marry me Do you love me   \n",
       "31           swear  fuck bitch shut up hell stupid idiot dumb ass ...   \n",
       "32        vacation  holidays when will semester starts when will s...   \n",
       "33          sports  sports and games give sports details sports in...   \n",
       "34       salutaion  okk okie nice work well done good job thanks f...   \n",
       "35            task  what can you do what are the thing you can do ...   \n",
       "36         ragging  ragging is ragging practice active in college ...   \n",
       "37             hod                        hod hod name who is the hod   \n",
       "\n",
       "                                            responses  \n",
       "0   [Hello!, Good to see you again!, Hi there, how...  \n",
       "1   [Sad to see you go :(, Talk to you later, Good...  \n",
       "2                                  [College students]  \n",
       "3   [You can call me Mind Reader., I'm Mind Reader...  \n",
       "4          [College is open 8am-5pm Monday-Saturday!]  \n",
       "5                        [You can contact at: NUMBER]  \n",
       "6   [Our university offers Information Technology,...  \n",
       "7   [For Fee detail visit <a target=\"_blank\" href=...  \n",
       "8   [<a target=\"_blank\" href=\"ADD YOU GOOGLE MAP L...  \n",
       "9   [For hostel detail visit <a target=\"_blank\" hr...  \n",
       "10  [For event detail visit <a target=\"_blank\" hre...  \n",
       "11  [To know more about document required visit <a...  \n",
       "12                   [My College has total 2 floors ]  \n",
       "13  [Timetable provide direct to the students OR T...  \n",
       "14  [There is one huge and spacious library.timing...  \n",
       "15  [Our University has Excellent Infrastructure. ...  \n",
       "16  [Our university has canteen with variety of fo...  \n",
       "17  [we serve Franky, Locho, Alu-puri, Kachori, Kh...  \n",
       "18  [To know about placement visit <a target=\"_bla...  \n",
       "19  [All engineering departments have only one hod...  \n",
       "20  [All engineering departments have only one hod...  \n",
       "21  [Different school wise hod are different.So be...  \n",
       "22  [XYZ is college principal and if you need any ...  \n",
       "23  [Here is the Academic Calendar  <a target=\"_bl...  \n",
       "24  [Application can also be submitted online thro...  \n",
       "25  [Many government scholarships are supported by...  \n",
       "26  [Our university's Engineering department provi...  \n",
       "27  [For IT, Computer and extc 60 per branch and s...  \n",
       "28       [ENTER YOUR OWN UNIVERSITY UNIFORM CIRCULER]  \n",
       "29  [For the various committe in college contact t...  \n",
       "30  [I am not program for this, please ask appropr...  \n",
       "31  [please use appropriate language, Maintaining ...  \n",
       "32  [Academic calender is given to you by your cla...  \n",
       "33  [Our university encourages all-round developme...  \n",
       "34  [I am glad I helped you, welcome, anything els...  \n",
       "35  [I can answer to low-intermediate questions re...  \n",
       "36  [We are Proud to tell you that our college pro...  \n",
       "37  [HODs differ for each branch, please be more s...  "
      ]
     },
     "execution_count": 79,
     "metadata": {},
     "output_type": "execute_result"
    }
   ],
   "source": [
    "df"
   ]
  },
  {
   "cell_type": "code",
   "execution_count": 84,
   "metadata": {},
   "outputs": [
    {
     "name": "stdout",
     "output_type": "stream",
     "text": [
      "['Hi', 'How', 'are', 'you', 'Is', 'anyone', 'there', 'Hello', 'Good', 'day', 'What', 's', 'up', 'how', 'are', 'ya', 'heyy', 'whatsup']\n",
      "['cya', 'see', 'you', 'bye', 'bye', 'See', 'you', 'later', 'Goodbye', 'I', 'am', 'Leaving', 'Bye', 'Have', 'a', 'Good', 'day', 'talk', 'to', 'you', 'later', 'ttyl', 'i', 'got', 'to', 'go', 'gtg']\n",
      "['what', 'is', 'the', 'name', 'of', 'your', 'developers', 'what', 'is', 'the', 'name', 'of', 'your', 'creators', 'what', 'is', 'the', 'name', 'of', 'the', 'developers', 'what', 'is', 'the', 'name', 'of', 'the', 'creators', 'who', 'created', 'you', 'your', 'developers', 'your', 'creators', 'who', 'are', 'your', 'developers', 'developers', 'you', 'are', 'made', 'by', 'you', 'are', 'made', 'by', 'whom', 'who', 'created', 'you', 'who', 'create', 'you', 'creators', 'who', 'made', 'you', 'who', 'designed', 'you']\n",
      "['name', 'your', 'name', 'do', 'you', 'have', 'a', 'name', 'what', 'are', 'you', 'called', 'what', 'is', 'your', 'name', 'what', 'should', 'I', 'call', 'you', 'whats', 'your', 'name', 'what', 'are', 'you', 'who', 'are', 'you', 'who', 'is', 'this', 'what', 'am', 'i', 'chatting', 'to', 'who', 'am', 'i', 'taking', 'to', 'what', 'are', 'you']\n",
      "['timing', 'of', 'college', 'what', 'is', 'college', 'timing', 'working', 'days', 'when', 'are', 'you', 'guys', 'open', 'what', 'are', 'your', 'hours', 'hours', 'of', 'operation', 'when', 'is', 'the', 'college', 'open', 'college', 'timing', 'what', 'about', 'college', 'timing', 'is', 'college', 'open', 'on', 'saturday', 'tell', 'something', 'about', 'college', 'timing', 'what', 'is', 'the', 'college', 'hours', 'when', 'should', 'i', 'come', 'to', 'college', 'when', 'should', 'i', 'attend', 'college', 'what', 'is', 'my', 'college', 'time', 'college', 'timing', 'timing', 'college']\n",
      "['more', 'info', 'contact', 'info', 'how', 'to', 'contact', 'college', 'college', 'telephone', 'number', 'college', 'number', 'What', 'is', 'your', 'contact', 'no', 'Contact', 'number', 'how', 'to', 'call', 'you', 'College', 'phone', 'no', 'how', 'can', 'i', 'contact', 'you', 'Can', 'i', 'get', 'your', 'phone', 'number', 'how', 'can', 'i', 'call', 'you', 'phone', 'number', 'phone', 'no', 'call']\n",
      "['list', 'of', 'courses', 'list', 'of', 'courses', 'offered', 'list', 'of', 'courses', 'offered', 'in', 'what', 'are', 'the', 'courses', 'offered', 'in', 'your', 'college', 'courses', 'courses', 'offered', 'courses', 'offered', 'in', 'your', 'univrsity', 'UNI', 'name', 'courses', 'you', 'offer', 'branches', 'courses', 'available', 'at', 'UNI', 'branches', 'available', 'at', 'your', 'college', 'what', 'are', 'the', 'courses', 'in', 'UNI', 'what', 'are', 'branches', 'in', 'UNI', 'what', 'are', 'courses', 'in', 'UNI', 'branches', 'available', 'in', 'UNI', 'can', 'you', 'tell', 'me', 'the', 'courses', 'available', 'in', 'UNI', 'can', 'you', 'tell', 'me', 'the', 'branches', 'available', 'in', 'UNI', 'computer', 'engineering', 'computer', 'Computer', 'engineering', 'it', 'IT', 'Information', 'Technology', 'AI', 'Ml', 'Mechanical', 'engineering', 'Chemical', 'engineering', 'Civil', 'engineering']\n",
      "['information', 'about', 'fee', 'information', 'on', 'fee', 'tell', 'me', 'the', 'fee', 'college', 'fee', 'fee', 'per', 'semester', 'what', 'is', 'the', 'fee', 'of', 'each', 'semester', 'what', 'is', 'the', 'fees', 'of', 'each', 'year', 'what', 'is', 'fee', 'what', 'is', 'the', 'fees', 'how', 'much', 'is', 'the', 'fees', 'fees', 'for', 'first', 'year', 'fees', 'about', 'the', 'fees', 'tell', 'me', 'something', 'about', 'the', 'fees', 'What', 'is', 'the', 'fees', 'of', 'hostel', 'how', 'much', 'is', 'the', 'fees', 'hostel', 'fees', 'fees', 'for', 'AC', 'room', 'fees', 'for', 'non-AC', 'room', 'fees', 'for', 'Ac', 'room', 'for', 'girls', 'fees', 'for', 'non-Ac', 'room', 'for', 'girls', 'fees', 'for', 'Ac', 'room', 'for', 'boys', 'fees', 'for', 'non-Ac', 'room', 'for', 'boys']\n",
      "['where', 'is', 'the', 'college', 'located', 'college', 'is', 'located', 'at', 'where', 'is', 'college', 'where', 'is', 'college', 'located', 'address', 'of', 'college', 'how', 'to', 'reach', 'college', 'college', 'location', 'college', 'address', 'wheres', 'the', 'college', 'how', 'can', 'I', 'reach', 'college', 'whats', 'is', 'the', 'college', 'address', 'what', 'is', 'the', 'address', 'of', 'college', 'address', 'location']\n",
      "['hostel', 'facility', 'hostel', 'servive', 'hostel', 'location', 'hostel', 'address', 'hostel', 'facilities', 'hostel', 'fees', 'Does', 'college', 'provide', 'hostel', 'Is', 'there', 'any', 'hostel', 'Where', 'is', 'hostel', 'do', 'you', 'have', 'hostel', 'do', 'you', 'guys', 'have', 'hostel', 'hostel', 'hostel', 'capacity', 'what', 'is', 'the', 'hostel', 'fee', 'how', 'to', 'get', 'in', 'hostel', 'what', 'is', 'the', 'hostel', 'address', 'how', 'far', 'is', 'hostel', 'from', 'college', 'hostel', 'college', 'distance', 'where', 'is', 'the', 'hostel', 'how', 'big', 'is', 'the', 'hostel', 'distance', 'between', 'college', 'and', 'hostel', 'distance', 'between', 'hostel', 'and', 'college']\n",
      "['events', 'organised', 'list', 'of', 'events', 'list', 'of', 'events', 'organised', 'in', 'college', 'list', 'of', 'events', 'conducted', 'in', 'college', 'What', 'events', 'are', 'conducted', 'in', 'college', 'Are', 'there', 'any', 'event', 'held', 'at', 'college', 'Events', 'functions', 'what', 'are', 'the', 'events', 'tell', 'me', 'about', 'events', 'what', 'about', 'events']\n",
      "['document', 'to', 'bring', 'documents', 'needed', 'for', 'admision', 'documents', 'needed', 'at', 'the', 'time', 'of', 'admission', 'documents', 'needed', 'during', 'admission', 'documents', 'required', 'for', 'admision', 'documents', 'required', 'at', 'the', 'time', 'of', 'admission', 'documents', 'required', 'during', 'admission', 'What', 'document', 'are', 'required', 'for', 'admission', 'Which', 'document', 'to', 'bring', 'for', 'admission', 'documents', 'what', 'documents', 'do', 'i', 'need', 'what', 'documents', 'do', 'I', 'need', 'for', 'admission', 'documents', 'needed']\n",
      "['size', 'of', 'campus', 'building', 'size', 'How', 'many', 'floors', 'does', 'college', 'have', 'floors', 'in', 'college', 'floors', 'in', 'college', 'how', 'tall', 'is', 'UNI', 's', 'College', 'of', 'Engineering', 'college', 'building', 'floors']\n",
      "['Syllabus', 'for', 'IT', 'what', 'is', 'the', 'Information', 'Technology', 'syllabus', 'syllabus', 'timetable', 'what', 'is', 'IT', 'syllabus', 'syllabus', 'What', 'is', 'next', 'lecture']\n",
      "['is', 'there', 'any', 'library', 'library', 'facility', 'library', 'facilities', 'do', 'you', 'have', 'library', 'does', 'the', 'college', 'have', 'library', 'facility', 'college', 'library', 'where', 'can', 'i', 'get', 'books', 'book', 'facility', 'Where', 'is', 'library', 'Library', 'Library', 'information', 'Library', 'books', 'information', 'Tell', 'me', 'about', 'library', 'how', 'many', 'libraries']\n",
      "['how', 'is', 'college', 'infrastructure', 'infrastructure', 'college', 'infrastructure']\n",
      "['food', 'facilities', 'canteen', 'facilities', 'canteen', 'facility', 'is', 'there', 'any', 'canteen', 'Is', 'there', 'a', 'cafetaria', 'in', 'college', 'Does', 'college', 'have', 'canteen', 'Where', 'is', 'canteen', 'where', 'is', 'cafetaria', 'canteen', 'Food', 'Cafetaria']\n",
      "['food', 'menu', 'food', 'in', 'canteen', 'Whats', 'there', 'on', 'menu', 'what', 'is', 'available', 'in', 'college', 'canteen', 'what', 'foods', 'can', 'we', 'get', 'in', 'college', 'canteen', 'food', 'variety', 'What', 'is', 'there', 'to', 'eat']\n",
      "['What', 'is', 'college', 'placement', 'Which', 'companies', 'visit', 'in', 'college', 'What', 'is', 'average', 'package', 'companies', 'visit', 'package', 'About', 'placement', 'placement', 'recruitment', 'companies']\n",
      "['Who', 'is', 'HOD', 'Where', 'is', 'HOD', 'it', 'hod', 'name', 'of', 'it', 'hod']\n",
      "['Who', 'is', 'computer', 'HOD', 'Where', 'is', 'computer', 'HOD', 'computer', 'hod', 'name', 'of', 'computer', 'hod']\n",
      "['Who', 'is', 'extc', 'HOD', 'Where', 'is', 'extc', 'HOD', 'extc', 'hod', 'name', 'of', 'extc', 'hod']\n",
      "['what', 'is', 'the', 'name', 'of', 'principal', 'whatv', 'is', 'the', 'principal', 'name', 'principal', 'name', 'Who', 'is', 'college', 'principal', 'Where', 'is', 'principal', 's', 'office', 'principal', 'name', 'of', 'principal']\n",
      "['exam', 'dates', 'exam', 'schedule', 'When', 'is', 'semester', 'exam', 'Semester', 'exam', 'timetable', 'sem', 'semester', 'exam', 'when', 'is', 'exam', 'exam', 'timetable', 'exam', 'dates', 'when', 'is', 'semester']\n",
      "['what', 'is', 'the', 'process', 'of', 'admission', 'what', 'is', 'the', 'admission', 'process', 'How', 'to', 'take', 'admission', 'in', 'your', 'college', 'What', 'is', 'the', 'process', 'for', 'admission', 'admission', 'admission', 'process']\n",
      "['scholarship', 'Is', 'scholarship', 'available', 'scholarship', 'engineering', 'scholarship', 'it', 'scholarship', 'ce', 'scholarship', 'mechanical', 'scholarship', 'civil', 'scholarship', 'chemical', 'scholarship', 'for', 'AI', 'ML', 'available', 'scholarships', 'scholarship', 'for', 'computer', 'engineering', 'scholarship', 'for', 'IT', 'engineering', 'scholarship', 'for', 'mechanical', 'engineering', 'scholarship', 'for', 'civil', 'engineering', 'scholarship', 'for', 'chemical', 'engineering', 'list', 'of', 'scholarship', 'comps', 'scholarship', 'IT', 'scholarship', 'mechanical', 'scholarship', 'civil', 'scholarship', 'chemical', 'scholarship', 'automobile', 'scholarship', 'first', 'year', 'scholarship', 'second', 'year', 'scholarship', 'third', 'year', 'scholarship', 'fourth', 'year', 'scholarship']\n",
      "['What', 'facilities', 'college', 'provide', 'College', 'facility', 'What', 'are', 'college', 'facilities', 'facilities', 'facilities', 'provided']\n",
      "['max', 'number', 'of', 'students', 'number', 'of', 'seats', 'per', 'branch', 'number', 'of', 'seats', 'in', 'each', 'branch', 'maximum', 'number', 'of', 'seats', 'maximum', 'students', 'intake', 'What', 'is', 'college', 'intake', 'how', 'many', 'stundent', 'are', 'taken', 'in', 'each', 'branch', 'seat', 'allotment', 'seats']\n",
      "['college', 'dress', 'code', 'college', 'dresscode', 'what', 'is', 'the', 'uniform', 'can', 'we', 'wear', 'casuals', 'Does', 'college', 'have', 'an', 'uniform', 'Is', 'there', 'any', 'uniform', 'uniform', 'what', 'about', 'uniform', 'do', 'we', 'have', 'to', 'wear', 'uniform']\n",
      "['what', 'are', 'the', 'different', 'committe', 'in', 'college', 'different', 'committee', 'in', 'college', 'Are', 'there', 'any', 'committee', 'in', 'college', 'Give', 'me', 'committee', 'details', 'committee', 'how', 'many', 'committee', 'are', 'there', 'in', 'college']\n",
      "['I', 'love', 'you', 'Will', 'you', 'marry', 'me', 'Do', 'you', 'love', 'me']\n",
      "['fuck', 'bitch', 'shut', 'up', 'hell', 'stupid', 'idiot', 'dumb', 'ass', 'asshole', 'fucker']\n",
      "['holidays', 'when', 'will', 'semester', 'starts', 'when', 'will', 'semester', 'end', 'when', 'is', 'the', 'holidays', 'list', 'of', 'holidays', 'Holiday', 'in', 'these', 'year', 'holiday', 'list', 'about', 'vacations', 'about', 'holidays', 'When', 'is', 'vacation', 'When', 'is', 'holidays', 'how', 'long', 'will', 'be', 'the', 'vacation']\n",
      "['sports', 'and', 'games', 'give', 'sports', 'details', 'sports', 'infrastructure', 'sports', 'facilities', 'information', 'about', 'sports', 'Sports', 'activities', 'please', 'provide', 'sports', 'and', 'games', 'information']\n",
      "['okk', 'okie', 'nice', 'work', 'well', 'done', 'good', 'job', 'thanks', 'for', 'the', 'help', 'Thank', 'You', 'its', 'ok', 'Thanks', 'Good', 'work', 'k', 'ok', 'okay']\n",
      "['what', 'can', 'you', 'do', 'what', 'are', 'the', 'thing', 'you', 'can', 'do', 'things', 'you', 'can', 'do', 'what', 'can', 'u', 'do', 'for', 'me', 'how', 'u', 'can', 'help', 'me', 'why', 'i', 'should', 'use', 'you']\n",
      "['ragging', 'is', 'ragging', 'practice', 'active', 'in', 'college', 'does', 'college', 'have', 'any', 'antiragging', 'facility', 'is', 'there', 'any', 'ragging', 'cases', 'is', 'ragging', 'done', 'here', 'ragging', 'against', 'antiragging', 'facility', 'ragging', 'juniors', 'ragging', 'history', 'ragging', 'incidents']\n",
      "['hod', 'hod', 'name', 'who', 'is', 'the', 'hod']\n"
     ]
    }
   ],
   "source": [
    "patterns = df['patterns'].apply(preprocessing)\n",
    "encoded_labels = label_encoder.fit_transform(df['tag'])"
   ]
  },
  {
   "cell_type": "code",
   "execution_count": 80,
   "metadata": {},
   "outputs": [
    {
     "ename": "NameError",
     "evalue": "name 'preprocessing' is not defined",
     "output_type": "error",
     "traceback": [
      "\u001b[1;31m---------------------------------------------------------------------------\u001b[0m",
      "\u001b[1;31mNameError\u001b[0m                                 Traceback (most recent call last)",
      "Cell \u001b[1;32mIn[80], line 1\u001b[0m\n\u001b[1;32m----> 1\u001b[0m patterns \u001b[38;5;241m=\u001b[39m df[\u001b[38;5;124m'\u001b[39m\u001b[38;5;124mpatterns\u001b[39m\u001b[38;5;124m'\u001b[39m]\u001b[38;5;241m.\u001b[39mapply(\u001b[43mpreprocessing\u001b[49m)\n",
      "\u001b[1;31mNameError\u001b[0m: name 'preprocessing' is not defined"
     ]
    }
   ],
   "source": [
    "patterns = df['patterns'].apply(preprocessing)"
   ]
  },
  {
   "cell_type": "code",
   "execution_count": 74,
   "metadata": {},
   "outputs": [
    {
     "ename": "NameError",
     "evalue": "name 'patterns' is not defined",
     "output_type": "error",
     "traceback": [
      "\u001b[1;31m---------------------------------------------------------------------------\u001b[0m",
      "\u001b[1;31mNameError\u001b[0m                                 Traceback (most recent call last)",
      "Cell \u001b[1;32mIn[74], line 1\u001b[0m\n\u001b[1;32m----> 1\u001b[0m \u001b[38;5;28mprint\u001b[39m(\u001b[38;5;124m'\u001b[39m\u001b[38;5;124m \u001b[39m\u001b[38;5;124m'\u001b[39m\u001b[38;5;241m.\u001b[39mjoin(\u001b[43mpatterns\u001b[49m\u001b[38;5;241m.\u001b[39mtolist())\u001b[38;5;241m.\u001b[39msplit())\n",
      "\u001b[1;31mNameError\u001b[0m: name 'patterns' is not defined"
     ]
    }
   ],
   "source": [
    "print(' '.join(patterns.tolist()).split())"
   ]
  },
  {
   "cell_type": "markdown",
   "metadata": {},
   "source": [
    "## TF-IDF"
   ]
  },
  {
   "cell_type": "code",
   "execution_count": 64,
   "metadata": {},
   "outputs": [],
   "source": [
    "from sklearn.feature_extraction.text import TfidfVectorizer"
   ]
  },
  {
   "cell_type": "code",
   "execution_count": null,
   "metadata": {},
   "outputs": [],
   "source": [
    "# create tf-idf\n",
    "vectorizer = TfidfVectorizer(stop_words='english')\n",
    "X = vectorizer.fit_transform(patterns)\n",
    "\n",
    "# print idf\n",
    "print(vectorizer.idf_)"
   ]
  },
  {
   "cell_type": "code",
   "execution_count": null,
   "metadata": {},
   "outputs": [],
   "source": [
    "df_tfidf = pd.DataFrame(X.toarray(), columns=vectorizer.get_feature_names_out())"
   ]
  },
  {
   "cell_type": "code",
   "execution_count": null,
   "metadata": {},
   "outputs": [],
   "source": [
    "df_tfidf.shape"
   ]
  },
  {
   "cell_type": "markdown",
   "metadata": {},
   "source": [
    "### DATA PREPARATION"
   ]
  },
  {
   "cell_type": "code",
   "execution_count": null,
   "metadata": {},
   "outputs": [],
   "source": [
    "X_train, X_test, y_train, y_test = train_test_split(df_tfidf, encoded_labels, test_size=0.10, random_state=42)\n",
    "display(X_train, y_train)"
   ]
  },
  {
   "cell_type": "code",
   "execution_count": null,
   "metadata": {},
   "outputs": [],
   "source": [
    "# NORMALISASI\n",
    "from sklearn.preprocessing import MinMaxScaler\n",
    "scaler = MinMaxScaler()"
   ]
  },
  {
   "cell_type": "code",
   "execution_count": null,
   "metadata": {},
   "outputs": [],
   "source": [
    "norm_X_train = scaler.fit_transform(X_train)\n",
    "norm_X_test = scaler.fit_transform(X_test)"
   ]
  },
  {
   "cell_type": "code",
   "execution_count": null,
   "metadata": {},
   "outputs": [],
   "source": [
    "display(norm_X_train, norm_X_test)"
   ]
  },
  {
   "cell_type": "markdown",
   "metadata": {},
   "source": [
    "### WORD EMBEDING"
   ]
  },
  {
   "cell_type": "code",
   "execution_count": 37,
   "metadata": {},
   "outputs": [],
   "source": [
    "from tensorflow.keras.models import Sequential\n",
    "from tensorflow.keras.layers import Embedding, Conv1D, MaxPooling1D, GlobalMaxPooling1D, Dense, Dropout, Flatten\n",
    "from tensorflow.keras.preprocessing.sequence import pad_sequences\n",
    "from tensorflow.keras.preprocessing.text import Tokenizer"
   ]
  },
  {
   "cell_type": "code",
   "execution_count": 54,
   "metadata": {},
   "outputs": [
    {
     "data": {
      "text/plain": [
       "34"
      ]
     },
     "metadata": {},
     "output_type": "display_data"
    },
    {
     "data": {
      "text/plain": [
       "15    how is college infrastructure infrastructure c...\n",
       "37                          hod hod name who is the hod\n",
       "13    Syllabus for IT what is the Information Techno...\n",
       "35    what can you do what are the thing you can do ...\n",
       "Name: patterns, dtype: object"
      ]
     },
     "metadata": {},
     "output_type": "display_data"
    },
    {
     "data": {
      "text/plain": [
       "34"
      ]
     },
     "metadata": {},
     "output_type": "display_data"
    },
    {
     "data": {
      "text/plain": [
       "15    infrastructure\n",
       "37               hod\n",
       "13          syllabus\n",
       "35              task\n",
       "Name: tag, dtype: object"
      ]
     },
     "metadata": {},
     "output_type": "display_data"
    }
   ],
   "source": [
    "X_train, X_test, y_train, y_test = train_test_split(df['patterns'].apply(lambda x : ''.join(x)), df['tag'], test_size=0.1)\n",
    "display(len(X_train),X_test,len(y_train),y_test)"
   ]
  },
  {
   "cell_type": "code",
   "execution_count": 44,
   "metadata": {},
   "outputs": [],
   "source": [
    "maxlen = 100\n",
    "vocab_length = 10000"
   ]
  },
  {
   "cell_type": "code",
   "execution_count": 45,
   "metadata": {},
   "outputs": [],
   "source": [
    "# Tokenize the text data\n",
    "tokenizer = Tokenizer(num_words=vocab_length) # num_word membatasi jumlah kata unik yang akan diperhitungkan oleh Tokenizer.\n",
    "tokenizer.fit_on_texts(X_train) # Membangun kamus kata-kata berdasarkan dataset latih X_train. Setiap kata dalam dataset akan mendapatkan indeks numerik sesuai dengan kamus yang dibangun oleh Tokenizer. \n",
    "X_train_sequences = tokenizer.texts_to_sequences(X_train)\n",
    "X_test_sequences = tokenizer.texts_to_sequences(X_test) "
   ]
  },
  {
   "cell_type": "code",
   "execution_count": 48,
   "metadata": {},
   "outputs": [],
   "source": [
    "# Encode the sentiment labels\n",
    "label_encoder = LabelEncoder()\n",
    "y_train_encoded = label_encoder.fit_transform(y_train)\n",
    "y_test_encoded = label_encoder.fit_transform(y_test)"
   ]
  },
  {
   "cell_type": "code",
   "execution_count": 49,
   "metadata": {},
   "outputs": [],
   "source": [
    "X_train_padded = pad_sequences(X_train_sequences, maxlen=maxlen) \n",
    "X_test_padded = pad_sequences(X_test_sequences, maxlen=maxlen)"
   ]
  },
  {
   "cell_type": "code",
   "execution_count": 56,
   "metadata": {},
   "outputs": [],
   "source": [
    "# Model definition\n",
    "model = Sequential()\n",
    "\n",
    "# Embedding layer\n",
    "model.add(Embedding(vocab_length, 100, input_length=maxlen, trainable=False))\n",
    "\n",
    "# Convolutional Layer 1\n",
    "model.add(Conv1D(64, 3, activation='relu'))\n",
    "model.add(MaxPooling1D(2))\n",
    "\n",
    "# Convolutional Layer 2\n",
    "model.add(Conv1D(128, 3, activation='relu'))\n",
    "model.add(MaxPooling1D(2))\n",
    "\n",
    "# Global Max Pooling\n",
    "model.add(GlobalMaxPooling1D())\n",
    "\n",
    "# Dense layers\n",
    "model.add(Dense(256, activation='relu'))\n",
    "model.add(Dropout(0.5))\n",
    "\n",
    "# Output layer\n",
    "model.add(Dense(1, activation='sigmoid'))  # Binary classification"
   ]
  },
  {
   "cell_type": "code",
   "execution_count": 57,
   "metadata": {},
   "outputs": [],
   "source": [
    "model.compile(optimizer='adam', loss='binary_crossentropy', metrics=['accuracy'])"
   ]
  },
  {
   "cell_type": "code",
   "execution_count": 58,
   "metadata": {},
   "outputs": [
    {
     "name": "stdout",
     "output_type": "stream",
     "text": [
      "Epoch 1/100\n",
      "1/1 [==============================] - 1s 726ms/step - loss: 0.3878 - accuracy: 0.0588 - val_loss: 0.6004 - val_accuracy: 0.2500\n",
      "Epoch 2/100\n",
      "1/1 [==============================] - 0s 29ms/step - loss: -1.1637 - accuracy: 0.0294 - val_loss: 0.5152 - val_accuracy: 0.2500\n",
      "Epoch 3/100\n",
      "1/1 [==============================] - 0s 27ms/step - loss: -2.5967 - accuracy: 0.0294 - val_loss: 0.4271 - val_accuracy: 0.2500\n",
      "Epoch 4/100\n",
      "1/1 [==============================] - 0s 28ms/step - loss: -4.4629 - accuracy: 0.0294 - val_loss: 0.3334 - val_accuracy: 0.2500\n",
      "Epoch 5/100\n",
      "1/1 [==============================] - 0s 29ms/step - loss: -6.0881 - accuracy: 0.0294 - val_loss: 0.2327 - val_accuracy: 0.2500\n",
      "Epoch 6/100\n",
      "1/1 [==============================] - 0s 29ms/step - loss: -7.9979 - accuracy: 0.0294 - val_loss: 0.1219 - val_accuracy: 0.2500\n",
      "Epoch 7/100\n",
      "1/1 [==============================] - 0s 26ms/step - loss: -9.5574 - accuracy: 0.0294 - val_loss: -1.4105e-04 - val_accuracy: 0.2500\n",
      "Epoch 8/100\n",
      "1/1 [==============================] - 0s 27ms/step - loss: -12.2533 - accuracy: 0.0294 - val_loss: -0.1359 - val_accuracy: 0.2500\n",
      "Epoch 9/100\n",
      "1/1 [==============================] - 0s 28ms/step - loss: -15.6188 - accuracy: 0.0294 - val_loss: -0.2874 - val_accuracy: 0.2500\n",
      "Epoch 10/100\n",
      "1/1 [==============================] - 0s 28ms/step - loss: -17.7789 - accuracy: 0.0294 - val_loss: -0.4555 - val_accuracy: 0.2500\n",
      "Epoch 11/100\n",
      "1/1 [==============================] - 0s 29ms/step - loss: -21.1919 - accuracy: 0.0294 - val_loss: -0.6418 - val_accuracy: 0.2500\n",
      "Epoch 12/100\n",
      "1/1 [==============================] - 0s 29ms/step - loss: -26.0901 - accuracy: 0.0294 - val_loss: -0.8467 - val_accuracy: 0.2500\n",
      "Epoch 13/100\n",
      "1/1 [==============================] - 0s 29ms/step - loss: -31.2961 - accuracy: 0.0294 - val_loss: -1.0722 - val_accuracy: 0.2500\n",
      "Epoch 14/100\n",
      "1/1 [==============================] - 0s 27ms/step - loss: -37.9116 - accuracy: 0.0294 - val_loss: -1.3200 - val_accuracy: 0.2500\n",
      "Epoch 15/100\n",
      "1/1 [==============================] - 0s 27ms/step - loss: -43.7513 - accuracy: 0.0294 - val_loss: -1.5961 - val_accuracy: 0.2500\n",
      "Epoch 16/100\n",
      "1/1 [==============================] - 0s 27ms/step - loss: -51.2893 - accuracy: 0.0294 - val_loss: -1.9051 - val_accuracy: 0.2500\n",
      "Epoch 17/100\n",
      "1/1 [==============================] - 0s 30ms/step - loss: -60.7469 - accuracy: 0.0294 - val_loss: -2.2533 - val_accuracy: 0.2500\n",
      "Epoch 18/100\n",
      "1/1 [==============================] - 0s 28ms/step - loss: -70.2075 - accuracy: 0.0294 - val_loss: -2.6526 - val_accuracy: 0.2500\n",
      "Epoch 19/100\n",
      "1/1 [==============================] - 0s 28ms/step - loss: -85.0418 - accuracy: 0.0294 - val_loss: -3.1128 - val_accuracy: 0.2500\n",
      "Epoch 20/100\n",
      "1/1 [==============================] - 0s 26ms/step - loss: -102.3288 - accuracy: 0.0294 - val_loss: -3.6443 - val_accuracy: 0.2500\n",
      "Epoch 21/100\n",
      "1/1 [==============================] - 0s 27ms/step - loss: -117.7730 - accuracy: 0.0294 - val_loss: -4.2672 - val_accuracy: 0.2500\n",
      "Epoch 22/100\n",
      "1/1 [==============================] - 0s 28ms/step - loss: -137.7571 - accuracy: 0.0294 - val_loss: -5.0015 - val_accuracy: 0.2500\n",
      "Epoch 23/100\n",
      "1/1 [==============================] - 0s 26ms/step - loss: -160.3209 - accuracy: 0.0294 - val_loss: -5.8594 - val_accuracy: 0.2500\n",
      "Epoch 24/100\n",
      "1/1 [==============================] - 0s 33ms/step - loss: -177.2032 - accuracy: 0.0294 - val_loss: -6.8597 - val_accuracy: 0.2500\n",
      "Epoch 25/100\n",
      "1/1 [==============================] - 0s 31ms/step - loss: -216.7285 - accuracy: 0.0294 - val_loss: -8.0219 - val_accuracy: 0.2500\n",
      "Epoch 26/100\n",
      "1/1 [==============================] - 0s 29ms/step - loss: -251.5321 - accuracy: 0.0294 - val_loss: -9.3603 - val_accuracy: 0.2500\n",
      "Epoch 27/100\n",
      "1/1 [==============================] - 0s 28ms/step - loss: -292.4919 - accuracy: 0.0294 - val_loss: -10.9005 - val_accuracy: 0.2500\n",
      "Epoch 28/100\n",
      "1/1 [==============================] - 0s 28ms/step - loss: -333.1992 - accuracy: 0.0294 - val_loss: -12.6670 - val_accuracy: 0.2500\n",
      "Epoch 29/100\n",
      "1/1 [==============================] - 0s 27ms/step - loss: -401.8471 - accuracy: 0.0294 - val_loss: -14.6811 - val_accuracy: 0.2500\n",
      "Epoch 30/100\n",
      "1/1 [==============================] - 0s 29ms/step - loss: -440.8145 - accuracy: 0.0294 - val_loss: -16.9710 - val_accuracy: 0.2500\n",
      "Epoch 31/100\n",
      "1/1 [==============================] - 0s 28ms/step - loss: -523.3537 - accuracy: 0.0294 - val_loss: -19.5780 - val_accuracy: 0.2500\n",
      "Epoch 32/100\n",
      "1/1 [==============================] - 0s 28ms/step - loss: -600.2828 - accuracy: 0.0294 - val_loss: -22.5303 - val_accuracy: 0.2500\n",
      "Epoch 33/100\n",
      "1/1 [==============================] - 0s 30ms/step - loss: -673.9925 - accuracy: 0.0294 - val_loss: -25.8583 - val_accuracy: 0.2500\n",
      "Epoch 34/100\n",
      "1/1 [==============================] - 0s 33ms/step - loss: -763.1121 - accuracy: 0.0294 - val_loss: -29.6059 - val_accuracy: 0.2500\n",
      "Epoch 35/100\n",
      "1/1 [==============================] - 0s 32ms/step - loss: -913.0410 - accuracy: 0.0294 - val_loss: -33.8019 - val_accuracy: 0.2500\n",
      "Epoch 36/100\n",
      "1/1 [==============================] - 0s 28ms/step - loss: -1027.1665 - accuracy: 0.0294 - val_loss: -38.4900 - val_accuracy: 0.2500\n",
      "Epoch 37/100\n",
      "1/1 [==============================] - 0s 27ms/step - loss: -1168.8577 - accuracy: 0.0294 - val_loss: -43.7162 - val_accuracy: 0.2500\n",
      "Epoch 38/100\n",
      "1/1 [==============================] - 0s 27ms/step - loss: -1310.3322 - accuracy: 0.0294 - val_loss: -49.5229 - val_accuracy: 0.2500\n",
      "Epoch 39/100\n",
      "1/1 [==============================] - 0s 28ms/step - loss: -1484.5264 - accuracy: 0.0294 - val_loss: -55.9607 - val_accuracy: 0.2500\n",
      "Epoch 40/100\n",
      "1/1 [==============================] - 0s 26ms/step - loss: -1639.8304 - accuracy: 0.0294 - val_loss: -63.0747 - val_accuracy: 0.2500\n",
      "Epoch 41/100\n",
      "1/1 [==============================] - 0s 28ms/step - loss: -1916.6217 - accuracy: 0.0294 - val_loss: -70.9528 - val_accuracy: 0.2500\n",
      "Epoch 42/100\n",
      "1/1 [==============================] - 0s 28ms/step - loss: -2104.0151 - accuracy: 0.0294 - val_loss: -79.6223 - val_accuracy: 0.2500\n",
      "Epoch 43/100\n",
      "1/1 [==============================] - 0s 28ms/step - loss: -2297.9082 - accuracy: 0.0294 - val_loss: -89.1509 - val_accuracy: 0.2500\n",
      "Epoch 44/100\n",
      "1/1 [==============================] - 0s 27ms/step - loss: -2715.9822 - accuracy: 0.0294 - val_loss: -99.6094 - val_accuracy: 0.2500\n",
      "Epoch 45/100\n",
      "1/1 [==============================] - 0s 27ms/step - loss: -3027.5049 - accuracy: 0.0294 - val_loss: -111.0662 - val_accuracy: 0.2500\n",
      "Epoch 46/100\n",
      "1/1 [==============================] - 0s 29ms/step - loss: -3346.2056 - accuracy: 0.0294 - val_loss: -123.5856 - val_accuracy: 0.2500\n",
      "Epoch 47/100\n",
      "1/1 [==============================] - 0s 27ms/step - loss: -3694.0830 - accuracy: 0.0294 - val_loss: -137.2393 - val_accuracy: 0.2500\n",
      "Epoch 48/100\n",
      "1/1 [==============================] - 0s 27ms/step - loss: -4169.7783 - accuracy: 0.0294 - val_loss: -152.1136 - val_accuracy: 0.2500\n",
      "Epoch 49/100\n",
      "1/1 [==============================] - 0s 28ms/step - loss: -4452.9858 - accuracy: 0.0294 - val_loss: -168.2888 - val_accuracy: 0.2500\n",
      "Epoch 50/100\n",
      "1/1 [==============================] - 0s 27ms/step - loss: -4991.1069 - accuracy: 0.0294 - val_loss: -185.8733 - val_accuracy: 0.2500\n",
      "Epoch 51/100\n",
      "1/1 [==============================] - 0s 29ms/step - loss: -5634.0669 - accuracy: 0.0294 - val_loss: -204.9542 - val_accuracy: 0.2500\n",
      "Epoch 52/100\n",
      "1/1 [==============================] - 0s 30ms/step - loss: -6268.4419 - accuracy: 0.0294 - val_loss: -225.6233 - val_accuracy: 0.2500\n",
      "Epoch 53/100\n",
      "1/1 [==============================] - 0s 30ms/step - loss: -7084.0908 - accuracy: 0.0294 - val_loss: -247.9870 - val_accuracy: 0.2500\n",
      "Epoch 54/100\n",
      "1/1 [==============================] - 0s 33ms/step - loss: -7524.2915 - accuracy: 0.0294 - val_loss: -272.1337 - val_accuracy: 0.2500\n",
      "Epoch 55/100\n",
      "1/1 [==============================] - 0s 29ms/step - loss: -7964.7886 - accuracy: 0.0294 - val_loss: -298.1495 - val_accuracy: 0.2500\n",
      "Epoch 56/100\n",
      "1/1 [==============================] - 0s 29ms/step - loss: -9152.5430 - accuracy: 0.0294 - val_loss: -326.1877 - val_accuracy: 0.2500\n",
      "Epoch 57/100\n",
      "1/1 [==============================] - 0s 30ms/step - loss: -10201.7764 - accuracy: 0.0294 - val_loss: -356.3779 - val_accuracy: 0.2500\n",
      "Epoch 58/100\n",
      "1/1 [==============================] - 0s 30ms/step - loss: -10761.8291 - accuracy: 0.0294 - val_loss: -388.8004 - val_accuracy: 0.2500\n",
      "Epoch 59/100\n",
      "1/1 [==============================] - 0s 30ms/step - loss: -11704.9355 - accuracy: 0.0294 - val_loss: -423.5782 - val_accuracy: 0.2500\n",
      "Epoch 60/100\n",
      "1/1 [==============================] - 0s 31ms/step - loss: -12500.3389 - accuracy: 0.0294 - val_loss: -460.8169 - val_accuracy: 0.2500\n",
      "Epoch 61/100\n",
      "1/1 [==============================] - 0s 29ms/step - loss: -14371.6807 - accuracy: 0.0294 - val_loss: -500.7299 - val_accuracy: 0.2500\n",
      "Epoch 62/100\n",
      "1/1 [==============================] - 0s 29ms/step - loss: -14400.7686 - accuracy: 0.0294 - val_loss: -543.3279 - val_accuracy: 0.2500\n",
      "Epoch 63/100\n",
      "1/1 [==============================] - 0s 29ms/step - loss: -16988.7578 - accuracy: 0.0294 - val_loss: -588.9006 - val_accuracy: 0.2500\n",
      "Epoch 64/100\n",
      "1/1 [==============================] - 0s 31ms/step - loss: -17401.2031 - accuracy: 0.0294 - val_loss: -637.4968 - val_accuracy: 0.2500\n",
      "Epoch 65/100\n",
      "1/1 [==============================] - 0s 30ms/step - loss: -18565.6055 - accuracy: 0.0294 - val_loss: -689.2542 - val_accuracy: 0.2500\n",
      "Epoch 66/100\n",
      "1/1 [==============================] - 0s 29ms/step - loss: -19931.4199 - accuracy: 0.0294 - val_loss: -744.3005 - val_accuracy: 0.2500\n",
      "Epoch 67/100\n",
      "1/1 [==============================] - 0s 30ms/step - loss: -22971.0977 - accuracy: 0.0294 - val_loss: -802.9627 - val_accuracy: 0.2500\n",
      "Epoch 68/100\n",
      "1/1 [==============================] - 0s 29ms/step - loss: -24837.9238 - accuracy: 0.0294 - val_loss: -865.4129 - val_accuracy: 0.2500\n",
      "Epoch 69/100\n",
      "1/1 [==============================] - 0s 31ms/step - loss: -25975.7168 - accuracy: 0.0294 - val_loss: -931.7340 - val_accuracy: 0.2500\n",
      "Epoch 70/100\n",
      "1/1 [==============================] - 0s 30ms/step - loss: -28273.0449 - accuracy: 0.0294 - val_loss: -1002.1329 - val_accuracy: 0.2500\n",
      "Epoch 71/100\n",
      "1/1 [==============================] - 0s 30ms/step - loss: -29909.4004 - accuracy: 0.0294 - val_loss: -1076.7498 - val_accuracy: 0.2500\n",
      "Epoch 72/100\n",
      "1/1 [==============================] - 0s 29ms/step - loss: -33154.8750 - accuracy: 0.0294 - val_loss: -1155.8733 - val_accuracy: 0.2500\n",
      "Epoch 73/100\n",
      "1/1 [==============================] - 0s 32ms/step - loss: -35704.5352 - accuracy: 0.0294 - val_loss: -1239.7061 - val_accuracy: 0.2500\n",
      "Epoch 74/100\n",
      "1/1 [==============================] - 0s 32ms/step - loss: -38862.5586 - accuracy: 0.0294 - val_loss: -1328.5300 - val_accuracy: 0.2500\n",
      "Epoch 75/100\n",
      "1/1 [==============================] - 0s 31ms/step - loss: -40759.1758 - accuracy: 0.0294 - val_loss: -1422.4135 - val_accuracy: 0.2500\n",
      "Epoch 76/100\n",
      "1/1 [==============================] - 0s 33ms/step - loss: -41155.3125 - accuracy: 0.0294 - val_loss: -1521.3621 - val_accuracy: 0.2500\n",
      "Epoch 77/100\n",
      "1/1 [==============================] - 0s 30ms/step - loss: -44867.4844 - accuracy: 0.0294 - val_loss: -1625.6909 - val_accuracy: 0.2500\n",
      "Epoch 78/100\n",
      "1/1 [==============================] - 0s 26ms/step - loss: -47557.1094 - accuracy: 0.0294 - val_loss: -1735.5875 - val_accuracy: 0.2500\n",
      "Epoch 79/100\n",
      "1/1 [==============================] - 0s 28ms/step - loss: -52494.6953 - accuracy: 0.0294 - val_loss: -1851.4674 - val_accuracy: 0.2500\n",
      "Epoch 80/100\n",
      "1/1 [==============================] - 0s 28ms/step - loss: -55991.9883 - accuracy: 0.0294 - val_loss: -1973.5725 - val_accuracy: 0.2500\n",
      "Epoch 81/100\n",
      "1/1 [==============================] - 0s 27ms/step - loss: -60058.3164 - accuracy: 0.0294 - val_loss: -2102.1772 - val_accuracy: 0.2500\n",
      "Epoch 82/100\n",
      "1/1 [==============================] - 0s 28ms/step - loss: -63624.4922 - accuracy: 0.0294 - val_loss: -2237.4971 - val_accuracy: 0.2500\n",
      "Epoch 83/100\n",
      "1/1 [==============================] - 0s 27ms/step - loss: -65878.8750 - accuracy: 0.0294 - val_loss: -2379.5874 - val_accuracy: 0.2500\n",
      "Epoch 84/100\n",
      "1/1 [==============================] - 0s 28ms/step - loss: -72319.2422 - accuracy: 0.0294 - val_loss: -2528.9521 - val_accuracy: 0.2500\n",
      "Epoch 85/100\n",
      "1/1 [==============================] - 0s 27ms/step - loss: -75767.0625 - accuracy: 0.0294 - val_loss: -2685.7495 - val_accuracy: 0.2500\n",
      "Epoch 86/100\n",
      "1/1 [==============================] - 0s 27ms/step - loss: -80308.5156 - accuracy: 0.0294 - val_loss: -2850.2319 - val_accuracy: 0.2500\n",
      "Epoch 87/100\n",
      "1/1 [==============================] - 0s 28ms/step - loss: -85155.1797 - accuracy: 0.0294 - val_loss: -3022.7139 - val_accuracy: 0.2500\n",
      "Epoch 88/100\n",
      "1/1 [==============================] - 0s 28ms/step - loss: -88846.1875 - accuracy: 0.0294 - val_loss: -3203.2856 - val_accuracy: 0.2500\n",
      "Epoch 89/100\n",
      "1/1 [==============================] - 0s 27ms/step - loss: -95326.5312 - accuracy: 0.0294 - val_loss: -3392.4028 - val_accuracy: 0.2500\n",
      "Epoch 90/100\n",
      "1/1 [==============================] - 0s 37ms/step - loss: -101036.1172 - accuracy: 0.0294 - val_loss: -3590.3779 - val_accuracy: 0.2500\n",
      "Epoch 91/100\n",
      "1/1 [==============================] - 0s 29ms/step - loss: -106764.5156 - accuracy: 0.0294 - val_loss: -3797.4500 - val_accuracy: 0.2500\n",
      "Epoch 92/100\n",
      "1/1 [==============================] - 0s 27ms/step - loss: -111450.2266 - accuracy: 0.0294 - val_loss: -4013.8882 - val_accuracy: 0.2500\n",
      "Epoch 93/100\n",
      "1/1 [==============================] - 0s 29ms/step - loss: -120962.8359 - accuracy: 0.0294 - val_loss: -4240.2627 - val_accuracy: 0.2500\n",
      "Epoch 94/100\n",
      "1/1 [==============================] - 0s 29ms/step - loss: -126456.2188 - accuracy: 0.0294 - val_loss: -4476.8203 - val_accuracy: 0.2500\n",
      "Epoch 95/100\n",
      "1/1 [==============================] - 0s 28ms/step - loss: -133756.7969 - accuracy: 0.0294 - val_loss: -4723.8682 - val_accuracy: 0.2500\n",
      "Epoch 96/100\n",
      "1/1 [==============================] - 0s 27ms/step - loss: -142746.5000 - accuracy: 0.0294 - val_loss: -4981.9189 - val_accuracy: 0.2500\n",
      "Epoch 97/100\n",
      "1/1 [==============================] - 0s 29ms/step - loss: -149774.4219 - accuracy: 0.0294 - val_loss: -5251.2002 - val_accuracy: 0.2500\n",
      "Epoch 98/100\n",
      "1/1 [==============================] - 0s 28ms/step - loss: -161727.2500 - accuracy: 0.0294 - val_loss: -5532.4688 - val_accuracy: 0.2500\n",
      "Epoch 99/100\n",
      "1/1 [==============================] - 0s 27ms/step - loss: -163283.0625 - accuracy: 0.0294 - val_loss: -5825.2402 - val_accuracy: 0.2500\n",
      "Epoch 100/100\n",
      "1/1 [==============================] - 0s 27ms/step - loss: -176547.8125 - accuracy: 0.0294 - val_loss: -6130.4219 - val_accuracy: 0.2500\n"
     ]
    }
   ],
   "source": [
    "history = model.fit(X_train_padded, y_train_encoded, epochs=100, batch_size=100, validation_data=(X_test_padded, y_test_encoded))"
   ]
  },
  {
   "cell_type": "code",
   "execution_count": 59,
   "metadata": {},
   "outputs": [
    {
     "name": "stdout",
     "output_type": "stream",
     "text": [
      "1/1 [==============================] - 0s 18ms/step - loss: -6130.4219 - accuracy: 0.2500\n"
     ]
    }
   ],
   "source": [
    "loss, accuracy = model.evaluate(X_test_padded, y_test_encoded)"
   ]
  },
  {
   "cell_type": "markdown",
   "metadata": {},
   "source": [
    "## TRAINING MODEL"
   ]
  },
  {
   "cell_type": "markdown",
   "metadata": {},
   "source": [
    "### NEURAL NETWORK"
   ]
  },
  {
   "cell_type": "code",
   "execution_count": null,
   "metadata": {},
   "outputs": [],
   "source": [
    "from tensorflow.keras.models import Sequential\n",
    "from tensorflow.keras.layers import Embedding, LSTM, Dense, Bidirectional"
   ]
  },
  {
   "cell_type": "code",
   "execution_count": null,
   "metadata": {},
   "outputs": [],
   "source": [
    "# Membuat model NN\n",
    "model = Sequential()\n",
    "model.add(Dense(128, input_dim=X_train.shape[1], activation='relu'))\n",
    "model.add(Dense(64, activation='relu'))\n",
    "model.add(Dense(len(set(encoded_labels)), activation='softmax'))\n",
    "\n",
    "# Kompilasi model\n",
    "model.compile(optimizer='adam', loss='sparse_categorical_crossentropy', metrics=['accuracy'])"
   ]
  },
  {
   "cell_type": "code",
   "execution_count": null,
   "metadata": {},
   "outputs": [],
   "source": [
    "# Melatih model\n",
    "history = model.fit(X_train, y_train, epochs=100, validation_data=(X_test, y_test))"
   ]
  },
  {
   "cell_type": "code",
   "execution_count": null,
   "metadata": {},
   "outputs": [],
   "source": [
    "loss, accuracy = model.evaluate(norm_X_test, y_test)"
   ]
  },
  {
   "cell_type": "markdown",
   "metadata": {},
   "source": [
    "## SVM"
   ]
  },
  {
   "cell_type": "code",
   "execution_count": 61,
   "metadata": {},
   "outputs": [],
   "source": [
    "from sklearn.svm import SVC\n",
    "from sklearn.pipeline import make_pipeline\n",
    "from sklearn.preprocessing import StandardScaler\n",
    "from sklearn.metrics import accuracy_score"
   ]
  },
  {
   "cell_type": "code",
   "execution_count": 85,
   "metadata": {},
   "outputs": [
    {
     "name": "stdout",
     "output_type": "stream",
     "text": [
      "Akurasi SVM: 0.0\n"
     ]
    }
   ],
   "source": [
    "# Membuat model SVM dengan TF-IDF Vectorizer\n",
    "svm_model = make_pipeline(TfidfVectorizer(), SVC(kernel='rbf'))\n",
    "\n",
    "# Melatih model SVM\n",
    "svm_model.fit(X_train, y_train_encoded)\n",
    "\n",
    "# Membuat prediksi\n",
    "svm_predictions = svm_model.predict(X_test)\n",
    "\n",
    "# Menghitung akurasi\n",
    "accuracy = accuracy_score(y_test_encoded, svm_predictions)\n",
    "print(\"Akurasi SVM:\", accuracy)"
   ]
  },
  {
   "cell_type": "code",
   "execution_count": 86,
   "metadata": {},
   "outputs": [
    {
     "data": {
      "text/plain": [
       "array([0, 2, 1, 3])"
      ]
     },
     "metadata": {},
     "output_type": "display_data"
    },
    {
     "data": {
      "text/plain": [
       "array([23, 24, 24, 12])"
      ]
     },
     "metadata": {},
     "output_type": "display_data"
    }
   ],
   "source": [
    "display(y_test_encoded, svm_predictions)"
   ]
  },
  {
   "cell_type": "code",
   "execution_count": 87,
   "metadata": {},
   "outputs": [
    {
     "ename": "NameError",
     "evalue": "name 'vectorizer' is not defined",
     "output_type": "error",
     "traceback": [
      "\u001b[1;31m---------------------------------------------------------------------------\u001b[0m",
      "\u001b[1;31mNameError\u001b[0m                                 Traceback (most recent call last)",
      "Cell \u001b[1;32mIn[87], line 14\u001b[0m\n\u001b[0;32m      2\u001b[0m new_data \u001b[38;5;241m=\u001b[39m [\n\u001b[0;32m      3\u001b[0m         \u001b[38;5;124m'\u001b[39m\u001b[38;5;124mHi there! How can I help you?\u001b[39m\u001b[38;5;124m'\u001b[39m,\n\u001b[0;32m      4\u001b[0m         \u001b[38;5;124m'\u001b[39m\u001b[38;5;124mWhat courses are available at the university?\u001b[39m\u001b[38;5;124m'\u001b[39m,\n\u001b[1;32m   (...)\u001b[0m\n\u001b[0;32m     10\u001b[0m         \u001b[38;5;124m\"\u001b[39m\u001b[38;5;124mWho is the head of the Computer Science department?\u001b[39m\u001b[38;5;124m\"\u001b[39m,\n\u001b[0;32m     11\u001b[0m     ]\n\u001b[0;32m     13\u001b[0m \u001b[38;5;66;03m# Lakukan TF-IDF pada data baru\u001b[39;00m\n\u001b[1;32m---> 14\u001b[0m new_data_vectorized \u001b[38;5;241m=\u001b[39m \u001b[43mvectorizer\u001b[49m\u001b[38;5;241m.\u001b[39mtransform(new_data)\n\u001b[0;32m     16\u001b[0m \u001b[38;5;66;03m# Langkah 3: Prediksi\u001b[39;00m\n\u001b[0;32m     17\u001b[0m predictions \u001b[38;5;241m=\u001b[39m model\u001b[38;5;241m.\u001b[39mpredict(new_data_vectorized)\n",
      "\u001b[1;31mNameError\u001b[0m: name 'vectorizer' is not defined"
     ]
    }
   ],
   "source": [
    "# Langkah 1: Preprocessing Data Baru\n",
    "new_data = [\n",
    "        'Hi there! How can I help you?',\n",
    "        'What courses are available at the university?',\n",
    "        'How can I apply for admission?',\n",
    "        'Tell me about the campus facilities.',\n",
    "        'Are there any upcoming events?',\n",
    "        'How can I contact the university?',\"is there any canteen\",   \n",
    "        \"Who is the head of the Information Technology department?\",\n",
    "        \"Who is the head of the Computer Science department?\",\n",
    "    ]\n",
    "\n",
    "# Lakukan TF-IDF pada data baru\n",
    "new_data_vectorized = vectorizer.transform(new_data)\n",
    "\n",
    "# Langkah 3: Prediksi\n",
    "predictions = model.predict(new_data_vectorized)"
   ]
  },
  {
   "cell_type": "code",
   "execution_count": null,
   "metadata": {},
   "outputs": [],
   "source": [
    "predictions = model.predict(new_data_vectorized)\n",
    "\n",
    "# Ambil label sebelum diencoded\n",
    "predicted_labels = [df['tag'].iloc[prediction.argmax()] for prediction in predictions]\n",
    "\n",
    "# Tampilkan hasil prediksi\n",
    "for i, data in enumerate(new_data):\n",
    "    print(f\"Data: {data}, Predicted Label: {df['responses'].loc[df['tag'] == predicted_labels[i]].tolist()[0][0]}\") "
   ]
  }
 ],
 "metadata": {
  "kernelspec": {
   "display_name": "PyTorch",
   "language": "python",
   "name": "python3"
  },
  "language_info": {
   "codemirror_mode": {
    "name": "ipython",
    "version": 3
   },
   "file_extension": ".py",
   "mimetype": "text/x-python",
   "name": "python",
   "nbconvert_exporter": "python",
   "pygments_lexer": "ipython3",
   "version": "3.11.5"
  }
 },
 "nbformat": 4,
 "nbformat_minor": 2
}
