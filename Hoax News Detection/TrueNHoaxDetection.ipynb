{
 "cells": [
  {
   "cell_type": "code",
   "execution_count": 1,
   "metadata": {},
   "outputs": [],
   "source": [
    "import re\n",
    "import math\n",
    "import numpy as np\n",
    "import pandas as pd"
   ]
  },
  {
   "cell_type": "markdown",
   "metadata": {},
   "source": [
    "# PREPROCESSING"
   ]
  },
  {
   "cell_type": "code",
   "execution_count": 10,
   "metadata": {},
   "outputs": [
    {
     "name": "stderr",
     "output_type": "stream",
     "text": [
      "[nltk_data] Downloading package punkt to\n",
      "[nltk_data]     C:\\Users\\Asus\\AppData\\Roaming\\nltk_data...\n",
      "[nltk_data]   Package punkt is already up-to-date!\n"
     ]
    },
    {
     "data": {
      "text/plain": [
       "True"
      ]
     },
     "execution_count": 10,
     "metadata": {},
     "output_type": "execute_result"
    }
   ],
   "source": [
    "from stop_word import stop_words\n",
    "import nltk\n",
    "from nltk.stem import PorterStemmer\n",
    "import re\n",
    "nltk.download('punkt') # Download data yang dibutuhkan untuk NLTK (jalankan sekali pada setiap instalasi)"
   ]
  },
  {
   "cell_type": "code",
   "execution_count": 2,
   "metadata": {},
   "outputs": [],
   "source": [
    "df = pd.read_csv(\"./dataset/Dataset2.csv\") # Memuat dataset"
   ]
  },
  {
   "cell_type": "code",
   "execution_count": 3,
   "metadata": {},
   "outputs": [
    {
     "data": {
      "text/html": [
       "<div>\n",
       "<style scoped>\n",
       "    .dataframe tbody tr th:only-of-type {\n",
       "        vertical-align: middle;\n",
       "    }\n",
       "\n",
       "    .dataframe tbody tr th {\n",
       "        vertical-align: top;\n",
       "    }\n",
       "\n",
       "    .dataframe thead th {\n",
       "        text-align: right;\n",
       "    }\n",
       "</style>\n",
       "<table border=\"1\" class=\"dataframe\">\n",
       "  <thead>\n",
       "    <tr style=\"text-align: right;\">\n",
       "      <th></th>\n",
       "      <th>URLs</th>\n",
       "      <th>Headline</th>\n",
       "      <th>Body</th>\n",
       "      <th>Label</th>\n",
       "    </tr>\n",
       "  </thead>\n",
       "  <tbody>\n",
       "    <tr>\n",
       "      <th>0</th>\n",
       "      <td>http://www.bbc.com/news/world-us-canada-414191...</td>\n",
       "      <td>Four ways Bob Corker skewered Donald Trump</td>\n",
       "      <td>Image copyright Getty Images\\nOn Sunday mornin...</td>\n",
       "      <td>1</td>\n",
       "    </tr>\n",
       "    <tr>\n",
       "      <th>1</th>\n",
       "      <td>https://www.reuters.com/article/us-filmfestiva...</td>\n",
       "      <td>Linklater's war veteran comedy speaks to moder...</td>\n",
       "      <td>LONDON (Reuters) - “Last Flag Flying”, a comed...</td>\n",
       "      <td>1</td>\n",
       "    </tr>\n",
       "    <tr>\n",
       "      <th>2</th>\n",
       "      <td>https://www.nytimes.com/2017/10/09/us/politics...</td>\n",
       "      <td>Trump’s Fight With Corker Jeopardizes His Legi...</td>\n",
       "      <td>The feud broke into public view last week when...</td>\n",
       "      <td>1</td>\n",
       "    </tr>\n",
       "    <tr>\n",
       "      <th>3</th>\n",
       "      <td>https://www.reuters.com/article/us-mexico-oil-...</td>\n",
       "      <td>Egypt's Cheiron wins tie-up with Pemex for Mex...</td>\n",
       "      <td>MEXICO CITY (Reuters) - Egypt’s Cheiron Holdin...</td>\n",
       "      <td>1</td>\n",
       "    </tr>\n",
       "    <tr>\n",
       "      <th>4</th>\n",
       "      <td>http://www.cnn.com/videos/cnnmoney/2017/10/08/...</td>\n",
       "      <td>Jason Aldean opens 'SNL' with Vegas tribute</td>\n",
       "      <td>Country singer Jason Aldean, who was performin...</td>\n",
       "      <td>1</td>\n",
       "    </tr>\n",
       "    <tr>\n",
       "      <th>...</th>\n",
       "      <td>...</td>\n",
       "      <td>...</td>\n",
       "      <td>...</td>\n",
       "      <td>...</td>\n",
       "    </tr>\n",
       "    <tr>\n",
       "      <th>4004</th>\n",
       "      <td>http://beforeitsnews.com/sports/2017/09/trends...</td>\n",
       "      <td>Trends to Watch</td>\n",
       "      <td>Trends to Watch\\n% of readers think this story...</td>\n",
       "      <td>0</td>\n",
       "    </tr>\n",
       "    <tr>\n",
       "      <th>4005</th>\n",
       "      <td>http://beforeitsnews.com/u-s-politics/2017/10/...</td>\n",
       "      <td>Trump Jr. Is Soon To Give A 30-Minute Speech F...</td>\n",
       "      <td>Trump Jr. Is Soon To Give A 30-Minute Speech F...</td>\n",
       "      <td>0</td>\n",
       "    </tr>\n",
       "    <tr>\n",
       "      <th>4006</th>\n",
       "      <td>https://www.activistpost.com/2017/09/ron-paul-...</td>\n",
       "      <td>Ron Paul on Trump, Anarchism &amp; the AltRight</td>\n",
       "      <td>NaN</td>\n",
       "      <td>0</td>\n",
       "    </tr>\n",
       "    <tr>\n",
       "      <th>4007</th>\n",
       "      <td>https://www.reuters.com/article/us-china-pharm...</td>\n",
       "      <td>China to accept overseas trial data in bid to ...</td>\n",
       "      <td>SHANGHAI (Reuters) - China said it plans to ac...</td>\n",
       "      <td>1</td>\n",
       "    </tr>\n",
       "    <tr>\n",
       "      <th>4008</th>\n",
       "      <td>http://beforeitsnews.com/u-s-politics/2017/10/...</td>\n",
       "      <td>Vice President Mike Pence Leaves NFL Game Beca...</td>\n",
       "      <td>Vice President Mike Pence Leaves NFL Game Beca...</td>\n",
       "      <td>0</td>\n",
       "    </tr>\n",
       "  </tbody>\n",
       "</table>\n",
       "<p>4009 rows × 4 columns</p>\n",
       "</div>"
      ],
      "text/plain": [
       "                                                   URLs  \\\n",
       "0     http://www.bbc.com/news/world-us-canada-414191...   \n",
       "1     https://www.reuters.com/article/us-filmfestiva...   \n",
       "2     https://www.nytimes.com/2017/10/09/us/politics...   \n",
       "3     https://www.reuters.com/article/us-mexico-oil-...   \n",
       "4     http://www.cnn.com/videos/cnnmoney/2017/10/08/...   \n",
       "...                                                 ...   \n",
       "4004  http://beforeitsnews.com/sports/2017/09/trends...   \n",
       "4005  http://beforeitsnews.com/u-s-politics/2017/10/...   \n",
       "4006  https://www.activistpost.com/2017/09/ron-paul-...   \n",
       "4007  https://www.reuters.com/article/us-china-pharm...   \n",
       "4008  http://beforeitsnews.com/u-s-politics/2017/10/...   \n",
       "\n",
       "                                               Headline  \\\n",
       "0            Four ways Bob Corker skewered Donald Trump   \n",
       "1     Linklater's war veteran comedy speaks to moder...   \n",
       "2     Trump’s Fight With Corker Jeopardizes His Legi...   \n",
       "3     Egypt's Cheiron wins tie-up with Pemex for Mex...   \n",
       "4           Jason Aldean opens 'SNL' with Vegas tribute   \n",
       "...                                                 ...   \n",
       "4004                                    Trends to Watch   \n",
       "4005  Trump Jr. Is Soon To Give A 30-Minute Speech F...   \n",
       "4006        Ron Paul on Trump, Anarchism & the AltRight   \n",
       "4007  China to accept overseas trial data in bid to ...   \n",
       "4008  Vice President Mike Pence Leaves NFL Game Beca...   \n",
       "\n",
       "                                                   Body  Label  \n",
       "0     Image copyright Getty Images\\nOn Sunday mornin...      1  \n",
       "1     LONDON (Reuters) - “Last Flag Flying”, a comed...      1  \n",
       "2     The feud broke into public view last week when...      1  \n",
       "3     MEXICO CITY (Reuters) - Egypt’s Cheiron Holdin...      1  \n",
       "4     Country singer Jason Aldean, who was performin...      1  \n",
       "...                                                 ...    ...  \n",
       "4004  Trends to Watch\\n% of readers think this story...      0  \n",
       "4005  Trump Jr. Is Soon To Give A 30-Minute Speech F...      0  \n",
       "4006                                                NaN      0  \n",
       "4007  SHANGHAI (Reuters) - China said it plans to ac...      1  \n",
       "4008  Vice President Mike Pence Leaves NFL Game Beca...      0  \n",
       "\n",
       "[4009 rows x 4 columns]"
      ]
     },
     "execution_count": 3,
     "metadata": {},
     "output_type": "execute_result"
    }
   ],
   "source": [
    "df"
   ]
  },
  {
   "cell_type": "code",
   "execution_count": 30,
   "metadata": {},
   "outputs": [],
   "source": [
    "df.dropna(inplace=True) # Drop semua dataset bernilai NaN"
   ]
  },
  {
   "cell_type": "code",
   "execution_count": 31,
   "metadata": {},
   "outputs": [],
   "source": [
    "df['Full'] = df['Headline'].loc[0:2000] + ' ' + df['Body'].loc[0:2000] # Membuat kolom baru full terdiri dari gabungan kolom headline dan body"
   ]
  },
  {
   "cell_type": "code",
   "execution_count": 37,
   "metadata": {},
   "outputs": [],
   "source": [
    "df['Full']\n",
    "df.dropna(inplace=True) # Drop semua dataset bernilai NaN"
   ]
  },
  {
   "cell_type": "markdown",
   "metadata": {},
   "source": [
    "#### PREPROCESSING FUNCTION"
   ]
  },
  {
   "cell_type": "code",
   "execution_count": 32,
   "metadata": {},
   "outputs": [],
   "source": [
    "def stemming(word):\n",
    "    stemmer = PorterStemmer()\n",
    "    stemmed_word = stemmer.stem(word)\n",
    "    return stemmed_word"
   ]
  },
  {
   "cell_type": "code",
   "execution_count": 33,
   "metadata": {},
   "outputs": [],
   "source": [
    "def stopword_removal_and_filtering(words):\n",
    "    # Menghilangkan stopwords dan Case Folding\n",
    "    filtered_words = [word for word in words if word.lower() not in stop_words] \n",
    "\n",
    "    # Filtering singkatan sederhana\n",
    "    filtered_words = [re.sub(r'\\.', '', word) for word in filtered_words]\n",
    "\n",
    "    # Filtering angka\n",
    "    filtered_words = [re.sub(r'\\d', '', word) for word in filtered_words]\n",
    "    \n",
    "    # Filtering data redundan\n",
    "    filtered_words = set(filtered_words)\n",
    "    \n",
    "    return filtered_words"
   ]
  },
  {
   "cell_type": "code",
   "execution_count": 34,
   "metadata": {},
   "outputs": [],
   "source": [
    "def preprocessing(text):\n",
    "    # Menghilangkan tanda baca\n",
    "    text = re.sub(r'[^\\w\\s-]', ' ', text)\n",
    "\n",
    "    # Memisahkan teks menjadi kata-kata (Tokenizing)\n",
    "    words = text.split()\n",
    "    \n",
    "    # Stop word removal dan stemming\n",
    "    filtered_words = stopword_removal_and_filtering(words)\n",
    "\n",
    "    # Stemming\n",
    "    filtered_words = [stemming(i) for i in filtered_words]\n",
    "\n",
    "    # Menghilangkan spasi ekstra\n",
    "    processed_text = ' '.join(filtered_words[1:])\n",
    "\n",
    "    return processed_text\n"
   ]
  },
  {
   "cell_type": "code",
   "execution_count": 38,
   "metadata": {},
   "outputs": [],
   "source": [
    "X_dataset_fullset = df['Full'].apply(preprocessing) # Proses preprocessing dataset"
   ]
  },
  {
   "cell_type": "code",
   "execution_count": 39,
   "metadata": {},
   "outputs": [],
   "source": [
    "X_dataset_fullset = X_dataset_fullset.values.flatten() # Menggabungkan data menjadi 1 dimensi"
   ]
  },
  {
   "cell_type": "code",
   "execution_count": 40,
   "metadata": {},
   "outputs": [],
   "source": [
    "X_dataset_fullset = X_dataset_fullset.tolist() # Mengubah data menjadi list"
   ]
  },
  {
   "cell_type": "code",
   "execution_count": 41,
   "metadata": {},
   "outputs": [],
   "source": [
    "X_string_fullset = ' '.join(X_dataset_fullset) # Menggabung data menjadi sebuah string"
   ]
  },
  {
   "cell_type": "code",
   "execution_count": 42,
   "metadata": {},
   "outputs": [],
   "source": [
    "X_feature_fullset = set(X_string_fullset.split(\" \")) # Memisahkan string menjadi fitur - fitur\n",
    "X_feature_fullset = list(X_feature_fullset)"
   ]
  },
  {
   "cell_type": "code",
   "execution_count": 43,
   "metadata": {},
   "outputs": [],
   "source": [
    "X_feature_fullset = pd.Series(data=X_feature_fullset) # Mengubah list menjadi data series "
   ]
  },
  {
   "cell_type": "markdown",
   "metadata": {},
   "source": [
    "## PERHITUNGAN BOBOT FITUR (TF-IDF)"
   ]
  },
  {
   "cell_type": "code",
   "execution_count": 44,
   "metadata": {},
   "outputs": [],
   "source": [
    "import re\n",
    "import math\n",
    "import numpy as np\n",
    "import pandas as pd"
   ]
  },
  {
   "cell_type": "code",
   "execution_count": 45,
   "metadata": {},
   "outputs": [],
   "source": [
    "docs = X_dataset_fullset\n",
    "processed_unique_words = X_feature_fullset"
   ]
  },
  {
   "cell_type": "code",
   "execution_count": 46,
   "metadata": {},
   "outputs": [],
   "source": [
    "tf = np.zeros((len(processed_unique_words), len(docs)))"
   ]
  },
  {
   "cell_type": "markdown",
   "metadata": {},
   "source": [
    "### Menghitung Term Frequency"
   ]
  },
  {
   "cell_type": "code",
   "execution_count": 47,
   "metadata": {},
   "outputs": [],
   "source": [
    "# for i in range(len(docs)):\n",
    "#     for x in range(len(processed_unique_words)):\n",
    "#         count = docs[i].count(processed_unique_words[x])\n",
    "#         tf[x][i] = 0 if count == 0 else 1 + math.log(1 + count)"
   ]
  },
  {
   "cell_type": "code",
   "execution_count": 48,
   "metadata": {},
   "outputs": [],
   "source": [
    "# df_tf = pd.DataFrame(tf)"
   ]
  },
  {
   "cell_type": "code",
   "execution_count": 49,
   "metadata": {},
   "outputs": [],
   "source": [
    "# df_tf.to_csv('tf.csv',index=False) # Menyimpan hasil perhitungan term frequency"
   ]
  },
  {
   "cell_type": "markdown",
   "metadata": {},
   "source": [
    "## Data Preparation (START RUNNING DARI SINI)"
   ]
  },
  {
   "cell_type": "markdown",
   "metadata": {},
   "source": [
    "### Load Feature"
   ]
  },
  {
   "cell_type": "code",
   "execution_count": 50,
   "metadata": {},
   "outputs": [],
   "source": [
    "tfdf = pd.read_csv(\"./tf.csv\")\n",
    "tfdf.index = processed_unique_words\n",
    "tfdf = tfdf.transpose()"
   ]
  },
  {
   "cell_type": "code",
   "execution_count": 52,
   "metadata": {},
   "outputs": [],
   "source": [
    "from sklearn.model_selection import train_test_split\n",
    "from sklearn.preprocessing import MinMaxScaler\n",
    "scaler = MinMaxScaler()"
   ]
  },
  {
   "cell_type": "code",
   "execution_count": 53,
   "metadata": {},
   "outputs": [],
   "source": [
    "X_train, X_test, y_train, y_test = train_test_split(tfdf, df['Label'], test_size=0.10, random_state=42) # Data Splitting\n",
    "\n",
    "# Normalisasi Data\n",
    "norm_X_train = scaler.fit_transform(X_train)\n",
    "norm_X_test = scaler.fit_transform(X_test)"
   ]
  },
  {
   "cell_type": "markdown",
   "metadata": {},
   "source": [
    "## Create Model"
   ]
  },
  {
   "cell_type": "code",
   "execution_count": 54,
   "metadata": {},
   "outputs": [],
   "source": [
    "from tensorflow.keras.models import Sequential\n",
    "from tensorflow.keras.layers import Dense, Dropout\n",
    "import tensorflow as tf"
   ]
  },
  {
   "cell_type": "markdown",
   "metadata": {},
   "source": [
    "### Arsitektur 1"
   ]
  },
  {
   "cell_type": "code",
   "execution_count": 55,
   "metadata": {},
   "outputs": [],
   "source": [
    "model = Sequential()\n",
    "\n",
    "model.add(Dense(512, input_shape=(norm_X_train.shape[1],), activation='relu'))\n",
    "\n",
    "# Hidden layers\n",
    "model.add(Dense(256, activation='relu'))\n",
    "model.add(Dropout(0.5))  # Dropout layer for regularization\n",
    "\n",
    "model.add(Dense(128, activation='relu'))\n",
    "model.add(Dropout(0.5))  # Dropout layer for regularization\n",
    "\n",
    "# Output layer\n",
    "model.add(Dense(1, activation='sigmoid'))  # Binary classification (fake or not)\n",
    "\n",
    "# Compile the model\n",
    "model.compile(optimizer='adam', loss='binary_crossentropy', metrics=['accuracy'])\n",
    "history = model.fit(norm_X_train, y_train, epochs=100, batch_size=256, validation_split=0.1)"
   ]
  },
  {
   "cell_type": "markdown",
   "metadata": {},
   "source": [
    "### Arsitektur 2"
   ]
  },
  {
   "cell_type": "code",
   "execution_count": null,
   "metadata": {},
   "outputs": [],
   "source": [
    "model = Sequential()\n",
    "\n",
    "# Input layer\n",
    "model.add(Dense(512, input_shape=(norm_X_train.shape[1],), activation='relu'))\n",
    "model.add(Dropout(0.6))\n",
    "\n",
    "# Hidden layers\n",
    "model.add(Dense(256, activation='relu'))\n",
    "\n",
    "model.add(Dense(128, activation='relu'))\n",
    "model.add(Dropout(0.6))\n",
    "\n",
    "# Additional hidden layer\n",
    "model.add(Dense(64, activation='relu'))\n",
    "\n",
    "\n",
    "# Output layer\n",
    "model.add(Dense(1, activation='sigmoid'))\n",
    "\n",
    "# Compile the model\n",
    "model.compile(optimizer='adam', loss='binary_crossentropy', metrics=['accuracy'])\n",
    "history = model.fit(norm_X_train, y_train, epochs=100, batch_size=256, validation_split=0.1)"
   ]
  },
  {
   "cell_type": "markdown",
   "metadata": {},
   "source": [
    "### Arsitektur 3"
   ]
  },
  {
   "cell_type": "code",
   "execution_count": null,
   "metadata": {},
   "outputs": [],
   "source": [
    "model = Sequential()\n",
    "\n",
    "model.add(Dense(512, input_shape=(norm_X_train.shape[1],), activation='relu'))\n",
    "model.add(Dropout(0.5))\n",
    "\n",
    "# Hidden layers\n",
    "model.add(Dense(256, activation='relu'))\n",
    "model.add(Dropout(0.5))\n",
    "\n",
    "model.add(Dense(128, activation='relu'))\n",
    "model.add(Dropout(0.5))\n",
    "\n",
    "# Additional hidden layers\n",
    "model.add(Dense(64, activation='relu'))\n",
    "model.add(Dropout(0.5))\n",
    "\n",
    "model.add(Dense(32, activation='relu'))\n",
    "model.add(Dropout(0.5))\n",
    "\n",
    "# Output layer\n",
    "model.add(Dense(1, activation='sigmoid'))\n",
    "\n",
    "# Compile the model\n",
    "model.compile(optimizer='adam', loss='binary_crossentropy', metrics=['accuracy'])\n",
    "history = model.fit(norm_X_train, y_train, epochs=100, batch_size=256, validation_split=0.1)"
   ]
  },
  {
   "cell_type": "markdown",
   "metadata": {},
   "source": [
    "### ARSITEKTUR 4"
   ]
  },
  {
   "cell_type": "code",
   "execution_count": null,
   "metadata": {},
   "outputs": [],
   "source": [
    "from tensorflow.keras.models import Sequential\n",
    "from tensorflow.keras.layers import Embedding, LSTM, Dense, Dropout\n",
    "\n",
    "model = Sequential()\n",
    "\n",
    "# Embedding layer\n",
    "model.add(Embedding(input_dim=2000, output_dim=128, input_length=norm_X_train.shape[1],))\n",
    "\n",
    "# LSTM layer\n",
    "model.add(LSTM(64, return_sequences=True))\n",
    "model.add(LSTM(32))\n",
    "\n",
    "# Dense layers\n",
    "model.add(Dense(64, activation='relu'))\n",
    "model.add(Dropout(0.5))\n",
    "\n",
    "model.add(Dense(32, activation='relu'))\n",
    "model.add(Dropout(0.5))\n",
    "\n",
    "# Output layer\n",
    "model.add(Dense(1, activation='sigmoid'))\n",
    "\n",
    "# Compile the model\n",
    "model.compile(optimizer='adam', loss='binary_crossentropy', metrics=['accuracy'])\n",
    "history = model.fit(norm_X_train, y_train, epochs=100, batch_size=256, validation_split=0.1)"
   ]
  },
  {
   "cell_type": "markdown",
   "metadata": {},
   "source": [
    "### Arsitektur 5"
   ]
  },
  {
   "cell_type": "code",
   "execution_count": null,
   "metadata": {},
   "outputs": [],
   "source": [
    "from tensorflow.keras.models import Sequential\n",
    "from tensorflow.keras.layers import Dense, Dropout, BatchNormalization\n",
    "\n",
    "model = Sequential()\n",
    "\n",
    "# Input layer\n",
    "model.add(Dense(512, input_shape=(norm_X_train.shape[1],), activation='relu'))\n",
    "model.add(BatchNormalization())\n",
    "model.add(Dropout(0.5))\n",
    "\n",
    "# Hidden layers\n",
    "model.add(Dense(256, activation='relu'))\n",
    "model.add(BatchNormalization())\n",
    "model.add(Dropout(0.5))\n",
    "\n",
    "model.add(Dense(128, activation='relu'))\n",
    "model.add(BatchNormalization())\n",
    "model.add(Dropout(0.5))\n",
    "\n",
    "model.add(Dense(64, activation='relu'))\n",
    "model.add(BatchNormalization())\n",
    "model.add(Dropout(0.5))\n",
    "\n",
    "# Output layer\n",
    "model.add(Dense(1, activation='sigmoid'))\n",
    "\n",
    "# Compile the model\n",
    "model.compile(optimizer='adam', loss='binary_crossentropy', metrics=['accuracy'])\n",
    "history = model.fit(norm_X_train, y_train, epochs=100, batch_size=256, validation_split=0.1)"
   ]
  },
  {
   "cell_type": "markdown",
   "metadata": {},
   "source": [
    "### Arsitektur 6"
   ]
  },
  {
   "cell_type": "code",
   "execution_count": null,
   "metadata": {},
   "outputs": [],
   "source": [
    "from tensorflow.keras.models import Sequential\n",
    "from tensorflow.keras.layers import Dense, Dropout, BatchNormalization, LeakyReLU\n",
    "\n",
    "model = Sequential()\n",
    "\n",
    "# Input layer\n",
    "model.add(Dense(1024, input_shape=(norm_X_train.shape[1],), activation='relu'))\n",
    "model.add(BatchNormalization())\n",
    "model.add(Dropout(0.5))\n",
    "\n",
    "# Hidden layers\n",
    "model.add(Dense(512))\n",
    "model.add(LeakyReLU(alpha=0.2))\n",
    "model.add(BatchNormalization())\n",
    "model.add(Dropout(0.5))\n",
    "\n",
    "model.add(Dense(256))\n",
    "model.add(LeakyReLU(alpha=0.2))\n",
    "model.add(BatchNormalization())\n",
    "model.add(Dropout(0.5))\n",
    "\n",
    "model.add(Dense(128))\n",
    "model.add(LeakyReLU(alpha=0.2))\n",
    "model.add(BatchNormalization())\n",
    "model.add(Dropout(0.5))\n",
    "\n",
    "model.add(Dense(64))\n",
    "model.add(LeakyReLU(alpha=0.2))\n",
    "model.add(BatchNormalization())\n",
    "model.add(Dropout(0.5))\n",
    "\n",
    "# Output layer\n",
    "model.add(Dense(1, activation='sigmoid'))\n",
    "\n",
    "# Compile the model\n",
    "model.compile(optimizer='adam', loss='binary_crossentropy', metrics=['accuracy'])\n",
    "history = model.fit(norm_X_train, y_train, epochs=100, batch_size=256, validation_split=0.1)"
   ]
  },
  {
   "cell_type": "code",
   "execution_count": 56,
   "metadata": {},
   "outputs": [
    {
     "name": "stdout",
     "output_type": "stream",
     "text": [
      "Epoch 1/100\n",
      "7/7 [==============================] - 2s 150ms/step - loss: 0.5913 - accuracy: 0.6963 - val_loss: 0.3554 - val_accuracy: 0.8547\n",
      "Epoch 2/100\n",
      "7/7 [==============================] - 1s 113ms/step - loss: 0.2142 - accuracy: 0.9323 - val_loss: 0.1505 - val_accuracy: 0.9274\n",
      "Epoch 3/100\n",
      "7/7 [==============================] - 1s 115ms/step - loss: 0.0598 - accuracy: 0.9832 - val_loss: 0.1558 - val_accuracy: 0.9665\n",
      "Epoch 4/100\n",
      "7/7 [==============================] - 1s 114ms/step - loss: 0.0173 - accuracy: 0.9975 - val_loss: 0.1112 - val_accuracy: 0.9777\n",
      "Epoch 5/100\n",
      "7/7 [==============================] - 1s 103ms/step - loss: 0.0061 - accuracy: 0.9988 - val_loss: 0.1616 - val_accuracy: 0.9665\n",
      "Epoch 6/100\n",
      "7/7 [==============================] - 1s 111ms/step - loss: 0.0020 - accuracy: 1.0000 - val_loss: 0.1854 - val_accuracy: 0.9721\n",
      "Epoch 7/100\n",
      "7/7 [==============================] - 1s 115ms/step - loss: 9.6117e-04 - accuracy: 1.0000 - val_loss: 0.2297 - val_accuracy: 0.9609\n",
      "Epoch 8/100\n",
      "7/7 [==============================] - 1s 109ms/step - loss: 9.2444e-04 - accuracy: 1.0000 - val_loss: 0.2271 - val_accuracy: 0.9609\n",
      "Epoch 9/100\n",
      "7/7 [==============================] - 1s 110ms/step - loss: 5.4541e-04 - accuracy: 1.0000 - val_loss: 0.1938 - val_accuracy: 0.9665\n",
      "Epoch 10/100\n",
      "7/7 [==============================] - 1s 115ms/step - loss: 5.2077e-04 - accuracy: 1.0000 - val_loss: 0.1914 - val_accuracy: 0.9665\n",
      "Epoch 11/100\n",
      "7/7 [==============================] - 1s 109ms/step - loss: 3.3214e-04 - accuracy: 1.0000 - val_loss: 0.1895 - val_accuracy: 0.9721\n",
      "Epoch 12/100\n",
      "7/7 [==============================] - 1s 110ms/step - loss: 2.0434e-04 - accuracy: 1.0000 - val_loss: 0.1829 - val_accuracy: 0.9777\n",
      "Epoch 13/100\n",
      "7/7 [==============================] - 1s 114ms/step - loss: 3.9875e-04 - accuracy: 1.0000 - val_loss: 0.1920 - val_accuracy: 0.9721\n",
      "Epoch 14/100\n",
      "7/7 [==============================] - 1s 113ms/step - loss: 1.9900e-04 - accuracy: 1.0000 - val_loss: 0.2074 - val_accuracy: 0.9665\n",
      "Epoch 15/100\n",
      "7/7 [==============================] - 1s 110ms/step - loss: 1.3179e-04 - accuracy: 1.0000 - val_loss: 0.2213 - val_accuracy: 0.9665\n",
      "Epoch 16/100\n",
      "7/7 [==============================] - 1s 120ms/step - loss: 1.6558e-04 - accuracy: 1.0000 - val_loss: 0.2319 - val_accuracy: 0.9665\n",
      "Epoch 17/100\n",
      "7/7 [==============================] - 1s 114ms/step - loss: 1.1031e-04 - accuracy: 1.0000 - val_loss: 0.2390 - val_accuracy: 0.9665\n",
      "Epoch 18/100\n",
      "7/7 [==============================] - 1s 117ms/step - loss: 1.4573e-04 - accuracy: 1.0000 - val_loss: 0.2437 - val_accuracy: 0.9665\n",
      "Epoch 19/100\n",
      "7/7 [==============================] - 1s 120ms/step - loss: 1.0970e-04 - accuracy: 1.0000 - val_loss: 0.2449 - val_accuracy: 0.9665\n",
      "Epoch 20/100\n",
      "7/7 [==============================] - 1s 116ms/step - loss: 9.5174e-05 - accuracy: 1.0000 - val_loss: 0.2470 - val_accuracy: 0.9665\n",
      "Epoch 21/100\n",
      "7/7 [==============================] - 1s 118ms/step - loss: 1.0419e-04 - accuracy: 1.0000 - val_loss: 0.2456 - val_accuracy: 0.9665\n",
      "Epoch 22/100\n",
      "7/7 [==============================] - 1s 118ms/step - loss: 1.0279e-04 - accuracy: 1.0000 - val_loss: 0.2436 - val_accuracy: 0.9665\n",
      "Epoch 23/100\n",
      "7/7 [==============================] - 1s 120ms/step - loss: 7.9069e-05 - accuracy: 1.0000 - val_loss: 0.2432 - val_accuracy: 0.9665\n",
      "Epoch 24/100\n",
      "7/7 [==============================] - 1s 119ms/step - loss: 6.4930e-05 - accuracy: 1.0000 - val_loss: 0.2481 - val_accuracy: 0.9665\n",
      "Epoch 25/100\n",
      "7/7 [==============================] - 1s 119ms/step - loss: 7.3544e-05 - accuracy: 1.0000 - val_loss: 0.2466 - val_accuracy: 0.9665\n",
      "Epoch 26/100\n",
      "7/7 [==============================] - 1s 119ms/step - loss: 8.7764e-05 - accuracy: 1.0000 - val_loss: 0.2450 - val_accuracy: 0.9665\n",
      "Epoch 27/100\n",
      "7/7 [==============================] - 1s 121ms/step - loss: 2.2818e-05 - accuracy: 1.0000 - val_loss: 0.2444 - val_accuracy: 0.9665\n",
      "Epoch 28/100\n",
      "7/7 [==============================] - 1s 120ms/step - loss: 5.4995e-05 - accuracy: 1.0000 - val_loss: 0.2465 - val_accuracy: 0.9665\n",
      "Epoch 29/100\n",
      "7/7 [==============================] - 1s 118ms/step - loss: 3.8380e-05 - accuracy: 1.0000 - val_loss: 0.2516 - val_accuracy: 0.9665\n",
      "Epoch 30/100\n",
      "7/7 [==============================] - 1s 119ms/step - loss: 4.2757e-05 - accuracy: 1.0000 - val_loss: 0.2545 - val_accuracy: 0.9665\n",
      "Epoch 31/100\n",
      "7/7 [==============================] - 1s 120ms/step - loss: 4.2708e-05 - accuracy: 1.0000 - val_loss: 0.2549 - val_accuracy: 0.9665\n",
      "Epoch 32/100\n",
      "7/7 [==============================] - 1s 121ms/step - loss: 2.3857e-04 - accuracy: 1.0000 - val_loss: 0.2099 - val_accuracy: 0.9777\n",
      "Epoch 33/100\n",
      "7/7 [==============================] - 1s 120ms/step - loss: 6.4525e-05 - accuracy: 1.0000 - val_loss: 0.2176 - val_accuracy: 0.9777\n",
      "Epoch 34/100\n",
      "7/7 [==============================] - 1s 118ms/step - loss: 1.6568e-04 - accuracy: 1.0000 - val_loss: 0.2707 - val_accuracy: 0.9721\n",
      "Epoch 35/100\n",
      "7/7 [==============================] - 1s 118ms/step - loss: 3.6944e-05 - accuracy: 1.0000 - val_loss: 0.3851 - val_accuracy: 0.9665\n",
      "Epoch 36/100\n",
      "7/7 [==============================] - 1s 118ms/step - loss: 2.9882e-05 - accuracy: 1.0000 - val_loss: 0.4550 - val_accuracy: 0.9665\n",
      "Epoch 37/100\n",
      "7/7 [==============================] - 1s 123ms/step - loss: 1.7942e-04 - accuracy: 1.0000 - val_loss: 0.1920 - val_accuracy: 0.9832\n",
      "Epoch 38/100\n",
      "7/7 [==============================] - 1s 119ms/step - loss: 0.0012 - accuracy: 0.9994 - val_loss: 0.2914 - val_accuracy: 0.9609\n",
      "Epoch 39/100\n",
      "7/7 [==============================] - 1s 121ms/step - loss: 0.0076 - accuracy: 0.9994 - val_loss: 0.1648 - val_accuracy: 0.9721\n",
      "Epoch 40/100\n",
      "7/7 [==============================] - 1s 121ms/step - loss: 7.1267e-04 - accuracy: 0.9994 - val_loss: 0.5797 - val_accuracy: 0.9721\n",
      "Epoch 41/100\n",
      "7/7 [==============================] - 1s 124ms/step - loss: 0.0163 - accuracy: 0.9957 - val_loss: 0.6177 - val_accuracy: 0.9665\n",
      "Epoch 42/100\n",
      "7/7 [==============================] - 1s 125ms/step - loss: 0.0035 - accuracy: 0.9994 - val_loss: 0.3414 - val_accuracy: 0.9497\n",
      "Epoch 43/100\n",
      "7/7 [==============================] - 1s 117ms/step - loss: 0.0115 - accuracy: 0.9963 - val_loss: 0.2068 - val_accuracy: 0.9609\n",
      "Epoch 44/100\n",
      "7/7 [==============================] - 1s 118ms/step - loss: 0.0123 - accuracy: 0.9981 - val_loss: 0.1657 - val_accuracy: 0.9721\n",
      "Epoch 45/100\n",
      "7/7 [==============================] - 1s 116ms/step - loss: 0.0184 - accuracy: 0.9938 - val_loss: 0.5197 - val_accuracy: 0.9330\n",
      "Epoch 46/100\n",
      "7/7 [==============================] - 1s 119ms/step - loss: 0.0131 - accuracy: 0.9963 - val_loss: 0.2403 - val_accuracy: 0.9385\n",
      "Epoch 47/100\n",
      "7/7 [==============================] - 1s 118ms/step - loss: 0.0023 - accuracy: 0.9988 - val_loss: 0.6097 - val_accuracy: 0.9497\n",
      "Epoch 48/100\n",
      "7/7 [==============================] - 1s 111ms/step - loss: 0.0038 - accuracy: 0.9988 - val_loss: 0.1486 - val_accuracy: 0.9721\n",
      "Epoch 49/100\n",
      "7/7 [==============================] - 1s 126ms/step - loss: 0.0069 - accuracy: 0.9988 - val_loss: 0.4492 - val_accuracy: 0.9721\n",
      "Epoch 50/100\n",
      "7/7 [==============================] - 1s 125ms/step - loss: 0.0119 - accuracy: 0.9981 - val_loss: 0.1716 - val_accuracy: 0.9665\n",
      "Epoch 51/100\n",
      "7/7 [==============================] - 1s 120ms/step - loss: 0.0011 - accuracy: 1.0000 - val_loss: 0.3013 - val_accuracy: 0.9441\n",
      "Epoch 52/100\n",
      "7/7 [==============================] - 1s 117ms/step - loss: 0.0021 - accuracy: 0.9994 - val_loss: 0.2078 - val_accuracy: 0.9721\n",
      "Epoch 53/100\n",
      "7/7 [==============================] - 1s 123ms/step - loss: 1.2377e-04 - accuracy: 1.0000 - val_loss: 0.3811 - val_accuracy: 0.9721\n",
      "Epoch 54/100\n",
      "7/7 [==============================] - 1s 123ms/step - loss: 2.8823e-04 - accuracy: 1.0000 - val_loss: 0.4173 - val_accuracy: 0.9721\n",
      "Epoch 55/100\n",
      "7/7 [==============================] - 1s 132ms/step - loss: 7.2846e-05 - accuracy: 1.0000 - val_loss: 0.4148 - val_accuracy: 0.9721\n",
      "Epoch 56/100\n",
      "7/7 [==============================] - 1s 117ms/step - loss: 5.2970e-05 - accuracy: 1.0000 - val_loss: 0.4108 - val_accuracy: 0.9721\n",
      "Epoch 57/100\n",
      "7/7 [==============================] - 1s 128ms/step - loss: 4.2282e-05 - accuracy: 1.0000 - val_loss: 0.4067 - val_accuracy: 0.9721\n",
      "Epoch 58/100\n",
      "7/7 [==============================] - 1s 121ms/step - loss: 4.6707e-05 - accuracy: 1.0000 - val_loss: 0.4035 - val_accuracy: 0.9721\n",
      "Epoch 59/100\n",
      "7/7 [==============================] - 1s 131ms/step - loss: 4.6629e-05 - accuracy: 1.0000 - val_loss: 0.4023 - val_accuracy: 0.9721\n",
      "Epoch 60/100\n",
      "7/7 [==============================] - 1s 116ms/step - loss: 7.2477e-05 - accuracy: 1.0000 - val_loss: 0.3998 - val_accuracy: 0.9721\n",
      "Epoch 61/100\n",
      "7/7 [==============================] - 1s 129ms/step - loss: 5.4564e-05 - accuracy: 1.0000 - val_loss: 0.3950 - val_accuracy: 0.9721\n",
      "Epoch 62/100\n",
      "7/7 [==============================] - 1s 123ms/step - loss: 5.4755e-05 - accuracy: 1.0000 - val_loss: 0.3943 - val_accuracy: 0.9721\n",
      "Epoch 63/100\n",
      "7/7 [==============================] - 1s 124ms/step - loss: 5.6254e-05 - accuracy: 1.0000 - val_loss: 0.3952 - val_accuracy: 0.9721\n",
      "Epoch 64/100\n",
      "7/7 [==============================] - 1s 118ms/step - loss: 5.3972e-05 - accuracy: 1.0000 - val_loss: 0.3979 - val_accuracy: 0.9721\n",
      "Epoch 65/100\n",
      "7/7 [==============================] - 1s 132ms/step - loss: 4.3898e-05 - accuracy: 1.0000 - val_loss: 0.4008 - val_accuracy: 0.9721\n",
      "Epoch 66/100\n",
      "7/7 [==============================] - 1s 123ms/step - loss: 2.9398e-05 - accuracy: 1.0000 - val_loss: 0.4036 - val_accuracy: 0.9721\n",
      "Epoch 67/100\n",
      "7/7 [==============================] - 1s 122ms/step - loss: 4.7203e-05 - accuracy: 1.0000 - val_loss: 0.4068 - val_accuracy: 0.9721\n",
      "Epoch 68/100\n",
      "7/7 [==============================] - 1s 132ms/step - loss: 2.5754e-05 - accuracy: 1.0000 - val_loss: 0.4086 - val_accuracy: 0.9721\n",
      "Epoch 69/100\n",
      "7/7 [==============================] - 1s 129ms/step - loss: 1.8678e-05 - accuracy: 1.0000 - val_loss: 0.4099 - val_accuracy: 0.9721\n",
      "Epoch 70/100\n",
      "7/7 [==============================] - 1s 126ms/step - loss: 2.1908e-05 - accuracy: 1.0000 - val_loss: 0.4117 - val_accuracy: 0.9721\n",
      "Epoch 71/100\n",
      "7/7 [==============================] - 1s 130ms/step - loss: 4.9153e-05 - accuracy: 1.0000 - val_loss: 0.4130 - val_accuracy: 0.9721\n",
      "Epoch 72/100\n",
      "7/7 [==============================] - 1s 122ms/step - loss: 3.1537e-05 - accuracy: 1.0000 - val_loss: 0.4153 - val_accuracy: 0.9721\n",
      "Epoch 73/100\n",
      "7/7 [==============================] - 1s 119ms/step - loss: 3.0244e-05 - accuracy: 1.0000 - val_loss: 0.4190 - val_accuracy: 0.9721\n",
      "Epoch 74/100\n",
      "7/7 [==============================] - 1s 122ms/step - loss: 1.5938e-05 - accuracy: 1.0000 - val_loss: 0.4234 - val_accuracy: 0.9721\n",
      "Epoch 75/100\n",
      "7/7 [==============================] - 1s 116ms/step - loss: 2.1171e-05 - accuracy: 1.0000 - val_loss: 0.4268 - val_accuracy: 0.9721\n",
      "Epoch 76/100\n",
      "7/7 [==============================] - 1s 117ms/step - loss: 1.6660e-05 - accuracy: 1.0000 - val_loss: 0.4292 - val_accuracy: 0.9721\n",
      "Epoch 77/100\n",
      "7/7 [==============================] - 1s 115ms/step - loss: 2.1794e-05 - accuracy: 1.0000 - val_loss: 0.4320 - val_accuracy: 0.9721\n",
      "Epoch 78/100\n",
      "7/7 [==============================] - 1s 116ms/step - loss: 7.2133e-05 - accuracy: 1.0000 - val_loss: 0.4339 - val_accuracy: 0.9721\n",
      "Epoch 79/100\n",
      "7/7 [==============================] - 1s 114ms/step - loss: 2.6455e-05 - accuracy: 1.0000 - val_loss: 0.4351 - val_accuracy: 0.9721\n",
      "Epoch 80/100\n",
      "7/7 [==============================] - 1s 115ms/step - loss: 2.9067e-05 - accuracy: 1.0000 - val_loss: 0.4367 - val_accuracy: 0.9721\n",
      "Epoch 81/100\n",
      "7/7 [==============================] - 1s 117ms/step - loss: 1.7414e-05 - accuracy: 1.0000 - val_loss: 0.4381 - val_accuracy: 0.9721\n",
      "Epoch 82/100\n",
      "7/7 [==============================] - 1s 122ms/step - loss: 1.3062e-05 - accuracy: 1.0000 - val_loss: 0.4393 - val_accuracy: 0.9721\n",
      "Epoch 83/100\n",
      "7/7 [==============================] - 1s 119ms/step - loss: 2.2563e-05 - accuracy: 1.0000 - val_loss: 0.4403 - val_accuracy: 0.9721\n",
      "Epoch 84/100\n",
      "7/7 [==============================] - 1s 122ms/step - loss: 1.7361e-05 - accuracy: 1.0000 - val_loss: 0.4415 - val_accuracy: 0.9721\n",
      "Epoch 85/100\n",
      "7/7 [==============================] - 1s 120ms/step - loss: 1.5344e-05 - accuracy: 1.0000 - val_loss: 0.4418 - val_accuracy: 0.9721\n",
      "Epoch 86/100\n",
      "7/7 [==============================] - 1s 117ms/step - loss: 1.3000e-05 - accuracy: 1.0000 - val_loss: 0.4419 - val_accuracy: 0.9721\n",
      "Epoch 87/100\n",
      "7/7 [==============================] - 1s 122ms/step - loss: 1.4532e-05 - accuracy: 1.0000 - val_loss: 0.4432 - val_accuracy: 0.9721\n",
      "Epoch 88/100\n",
      "7/7 [==============================] - 1s 118ms/step - loss: 9.1188e-06 - accuracy: 1.0000 - val_loss: 0.4444 - val_accuracy: 0.9721\n",
      "Epoch 89/100\n",
      "7/7 [==============================] - 1s 121ms/step - loss: 1.3660e-05 - accuracy: 1.0000 - val_loss: 0.4455 - val_accuracy: 0.9721\n",
      "Epoch 90/100\n",
      "7/7 [==============================] - 1s 118ms/step - loss: 1.3220e-05 - accuracy: 1.0000 - val_loss: 0.4471 - val_accuracy: 0.9721\n",
      "Epoch 91/100\n",
      "7/7 [==============================] - 1s 118ms/step - loss: 8.2388e-06 - accuracy: 1.0000 - val_loss: 0.4487 - val_accuracy: 0.9721\n",
      "Epoch 92/100\n",
      "7/7 [==============================] - 1s 115ms/step - loss: 1.1802e-05 - accuracy: 1.0000 - val_loss: 0.4498 - val_accuracy: 0.9721\n",
      "Epoch 93/100\n",
      "7/7 [==============================] - 1s 128ms/step - loss: 2.6862e-05 - accuracy: 1.0000 - val_loss: 0.4526 - val_accuracy: 0.9721\n",
      "Epoch 94/100\n",
      "7/7 [==============================] - 1s 129ms/step - loss: 9.6257e-06 - accuracy: 1.0000 - val_loss: 0.4559 - val_accuracy: 0.9721\n",
      "Epoch 95/100\n",
      "7/7 [==============================] - 1s 119ms/step - loss: 7.3809e-06 - accuracy: 1.0000 - val_loss: 0.4584 - val_accuracy: 0.9721\n",
      "Epoch 96/100\n",
      "7/7 [==============================] - 1s 117ms/step - loss: 1.2898e-05 - accuracy: 1.0000 - val_loss: 0.4601 - val_accuracy: 0.9721\n",
      "Epoch 97/100\n",
      "7/7 [==============================] - 1s 117ms/step - loss: 5.5998e-06 - accuracy: 1.0000 - val_loss: 0.4624 - val_accuracy: 0.9721\n",
      "Epoch 98/100\n",
      "7/7 [==============================] - 1s 118ms/step - loss: 4.3415e-06 - accuracy: 1.0000 - val_loss: 0.4637 - val_accuracy: 0.9721\n",
      "Epoch 99/100\n",
      "7/7 [==============================] - 1s 124ms/step - loss: 1.0633e-05 - accuracy: 1.0000 - val_loss: 0.4651 - val_accuracy: 0.9721\n",
      "Epoch 100/100\n",
      "7/7 [==============================] - 1s 131ms/step - loss: 8.6912e-06 - accuracy: 1.0000 - val_loss: 0.4665 - val_accuracy: 0.9721\n"
     ]
    }
   ],
   "source": [
    "history = model.fit(norm_X_train, y_train, epochs=100, batch_size=256, validation_split=0.1)"
   ]
  },
  {
   "cell_type": "code",
   "execution_count": 60,
   "metadata": {},
   "outputs": [
    {
     "name": "stdout",
     "output_type": "stream",
     "text": [
      "7/7 [==============================] - 0s 9ms/step - loss: 0.4745 - accuracy: 0.9598\n"
     ]
    }
   ],
   "source": [
    "loss, accuracy = model.evaluate(norm_X_test, y_test)"
   ]
  },
  {
   "cell_type": "code",
   "execution_count": 62,
   "metadata": {},
   "outputs": [
    {
     "name": "stderr",
     "output_type": "stream",
     "text": [
      "c:\\Users\\Asus\\anaconda3\\envs\\py3.11-TF2.0\\Lib\\site-packages\\keras\\src\\engine\\training.py:3000: UserWarning: You are saving your model as an HDF5 file via `model.save()`. This file format is considered legacy. We recommend using instead the native Keras format, e.g. `model.save('my_model.keras')`.\n",
      "  saving_api.save_model(\n"
     ]
    }
   ],
   "source": [
    "model.save(\"my_model.h5\")"
   ]
  },
  {
   "cell_type": "markdown",
   "metadata": {},
   "source": [
    "### Model Jurnal Referensi"
   ]
  },
  {
   "cell_type": "code",
   "execution_count": 113,
   "metadata": {},
   "outputs": [],
   "source": [
    "from sklearn.tree import DecisionTreeClassifier\n",
    "from sklearn.ensemble import RandomForestClassifier, GradientBoostingClassifier\n",
    "from sklearn.svm import SVC\n",
    "from sklearn.model_selection import train_test_split\n",
    "from sklearn.metrics import accuracy_score"
   ]
  },
  {
   "cell_type": "code",
   "execution_count": 115,
   "metadata": {},
   "outputs": [],
   "source": [
    "decision_tree = DecisionTreeClassifier(criterion='gini', splitter='best', min_samples_split=2,\n",
    "                                       min_samples_leaf=1, max_features=None, random_state=42)\n",
    "random_forest = RandomForestClassifier(n_estimators=100, criterion='gini', max_features='auto', random_state=42)\n",
    "svm_model = SVC(C=1.0, kernel='poly', degree=1, coef0=1.0, gamma=1.0)\n",
    "gradient_boosted_trees = GradientBoostingClassifier(n_estimators=100, learning_rate=0.1, max_depth=3, random_state=42)"
   ]
  },
  {
   "cell_type": "code",
   "execution_count": 117,
   "metadata": {},
   "outputs": [],
   "source": [
    "decision_tree.fit(norm_X_train, y_train)\n",
    "random_forest.fit(norm_X_train, y_train)\n",
    "svm_model.fit(norm_X_train, y_train)\n",
    "gradient_boosted_trees.fit(norm_X_train, y_train)"
   ]
  },
  {
   "cell_type": "markdown",
   "metadata": {},
   "source": [
    "### Model Testing"
   ]
  },
  {
   "cell_type": "code",
   "execution_count": 102,
   "metadata": {},
   "outputs": [],
   "source": [
    "def TFIDF(processed_unique_words,docs):\n",
    "    tf = np.zeros((len(processed_unique_words), len(docs)))\n",
    "    for i in range(len(docs)):\n",
    "        for x in range(len(processed_unique_words)):\n",
    "            count = docs[i].count(processed_unique_words[x])\n",
    "            tf[x][i] = 0 if count == 0 else 1 + math.log(1 + count)\n",
    "    return tf"
   ]
  },
  {
   "cell_type": "code",
   "execution_count": 119,
   "metadata": {},
   "outputs": [],
   "source": [
    "# Contoh data teks (dokumen)\n",
    "documents = [\n",
    "    \"COVID-19 Cure Found! Scientists have discovered a cure for COVID-19\",\n",
    "    \"Breaking: UFO Sightings on the Rise! Multiple reports of UFO sightings around the world\",\n",
    "    \"New Study: Chocolate is Healthy! Eating chocolate has been proven to improve health\",\n",
    "    \"Government Denies Alien Contact Officials deny any contact with extraterrestrial beings\",\n",
    "    \"Fake News Alert! Rumors of a zombie apocalypse are false, authorities confirm.\"\n",
    "]\n",
    "\n",
    "tf = TFIDF(tfdf.columns,documents)\n",
    "tf = tf.transpose()"
   ]
  },
  {
   "cell_type": "code",
   "execution_count": 125,
   "metadata": {},
   "outputs": [
    {
     "name": "stdout",
     "output_type": "stream",
     "text": [
      "1/1 [==============================] - 0s 22ms/step\n",
      "[1, 1, 1, 1, 1]\n",
      "True\n",
      "True\n",
      "True\n",
      "True\n",
      "True\n"
     ]
    }
   ],
   "source": [
    "predictions = model.predict(tf)\n",
    "predicted_labels = [df['Label'].iloc[prediction.argmax()] for prediction in predictions]\n",
    "print(predicted_labels)\n",
    "for i in predicted_labels:\n",
    "    if i == 1:\n",
    "        print(\"True\")\n",
    "    else:\n",
    "        print(\"Hoax bejir\")"
   ]
  }
 ],
 "metadata": {
  "kernelspec": {
   "display_name": "py3.11-TF2.0",
   "language": "python",
   "name": "python3"
  },
  "language_info": {
   "codemirror_mode": {
    "name": "ipython",
    "version": 3
   },
   "file_extension": ".py",
   "mimetype": "text/x-python",
   "name": "python",
   "nbconvert_exporter": "python",
   "pygments_lexer": "ipython3",
   "version": "3.11.5"
  }
 },
 "nbformat": 4,
 "nbformat_minor": 2
}
